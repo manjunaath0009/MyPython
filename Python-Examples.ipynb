{
 "cells": [
  {
   "cell_type": "code",
   "execution_count": null,
   "metadata": {},
   "outputs": [
    {
     "name": "stdout",
     "output_type": "stream",
     "text": [
      "Welcome to Python World\n"
     ]
    }
   ],
   "source": [
    "print(\"Welcome to Python World\")"
   ]
  },
  {
   "cell_type": "code",
   "execution_count": null,
   "metadata": {},
   "outputs": [
    {
     "name": "stdout",
     "output_type": "stream",
     "text": [
      "1\n",
      "1.0\n",
      "Hello Python\n",
      "True\n",
      "<class 'int'>\n",
      "<class 'float'>\n",
      "<class 'str'>\n",
      "<class 'bool'>\n"
     ]
    }
   ],
   "source": [
    "# Variables\n",
    "integer = int(1)\n",
    "floating = float(1)\n",
    "string = str(\"Hello Python\")\n",
    "bool = True\n",
    "print(integer)\n",
    "print(floating)\n",
    "print(string)\n",
    "print(bool)\n",
    "print(type(integer))\n",
    "print(type(floating))\n",
    "print(type(string))\n",
    "print(type(bool))"
   ]
  },
  {
   "cell_type": "code",
   "execution_count": null,
   "metadata": {},
   "outputs": [
    {
     "name": "stdout",
     "output_type": "stream",
     "text": [
      "Apple\n",
      "Bat\n",
      "Cat\n",
      "Apple Bat Cat\n",
      "10 11 12\n",
      "[10, 11, 12]\n"
     ]
    }
   ],
   "source": [
    "# Assigning multiple variable in a line\n",
    "x, y, z = \"Apple\", \"Bat\", \"Cat\"\n",
    "print(x)\n",
    "print(y)\n",
    "print(z)\n",
    "x=\"Apple\"\n",
    "y=\"Bat\"\n",
    "z=\"Cat\"\n",
    "print(x, y, z)\n",
    "x=10\n",
    "y=11\n",
    "z=12\n",
    "print(x, y, z)\n",
    "abc=x, y, z\n",
    "print(list(abc))"
   ]
  },
  {
   "cell_type": "code",
   "execution_count": null,
   "metadata": {},
   "outputs": [
    {
     "name": "stdout",
     "output_type": "stream",
     "text": [
      "Python is a : Global Variable\n",
      "Python is Local Variable\n",
      "Python is Global Variable\n",
      "\n",
      "\n",
      "\n",
      "Python is Local Variable\n",
      "Python is Global variable declared inside the function\n",
      "Python is Global Variable\n",
      "Python is Global variable declared inside the function\n"
     ]
    }
   ],
   "source": [
    "# Global Variables\n",
    "x=\"Global Variable\"\n",
    "def myFunc():\n",
    "    print(\"Python is a : \" + x)\n",
    "\n",
    "myFunc()\n",
    "\n",
    "x = \"Global Variable\" #Global variable\n",
    "\n",
    "def myfunc():\n",
    "  x = \"Local Variable\" #Local variable\n",
    "  print(\"Python is \" + x)\n",
    "\n",
    "myfunc()\n",
    "\n",
    "print(\"Python is \" + x)\n",
    "print(\"\\n\\n\")\n",
    "\n",
    "x = \"Global Variable\" #Global variable\n",
    "\n",
    "def myfunc():\n",
    "    global y\n",
    "    y = \"Global variable declared inside the function\"\n",
    "    x = \"Local Variable\" #Local variable\n",
    "    print(\"Python is \" + x)\n",
    "    print(\"Python is \" + y)\n",
    "\n",
    "myfunc()\n",
    "\n",
    "print(\"Python is \" + x)\n",
    "print(\"Python is \" + y)"
   ]
  },
  {
   "cell_type": "code",
   "execution_count": null,
   "metadata": {},
   "outputs": [
    {
     "name": "stdout",
     "output_type": "stream",
     "text": [
      "2\n",
      "2\n",
      "range(1, 5)\n"
     ]
    }
   ],
   "source": [
    "import random\n",
    "\n",
    "print(random.randrange(2, 5, 3))\n",
    "print(random.randrange(2, 5))\n",
    "print(range(1,5))"
   ]
  },
  {
   "cell_type": "code",
   "execution_count": null,
   "metadata": {},
   "outputs": [
    {
     "name": "stdout",
     "output_type": "stream",
     "text": [
      "BANANA\n",
      "\n",
      "olleH\n",
      "dlroW olleH\n",
      "HELLO WORLD \n",
      "\n",
      "*******Reverse each word of a sentence\n",
      "\n",
      "yM emaN si htaanujnaM \n",
      "\n",
      "*******Change Case of each work in a sentence\n",
      "\n",
      "mY nAME IS mANJUNAATH "
     ]
    }
   ],
   "source": [
    "for x in \"banana\":\n",
    "    swap=x.swapcase()\n",
    "    print(swap, end=\"\")\n",
    "\n",
    "print(\"\\n\")\n",
    "word = \"Hello\"\n",
    "word1 = word[::-1]\n",
    "print(word1)\n",
    "\n",
    "words = \"Hello World\"\n",
    "print(words[::-1])\n",
    "for word in words.split():\n",
    "    if word[0].lower() > 'g':\n",
    "        print(word.upper(), end=\" \")\n",
    "        \n",
    "print(\"\\n\\n*******Reverse each word of a sentence\\n\")\n",
    "\n",
    "def reverseWords(s):\n",
    "    for word in s.split():\n",
    "        revWord = word[::-1]\n",
    "        print(revWord, end=\" \")\n",
    "\n",
    "reverseWords(\"My Name is Manjunaath\")\n",
    "\n",
    "print(\"\\n\\n*******Change Case of each work in a sentence\\n\")\n",
    "\n",
    "def changeCase(s):\n",
    "    for word in s.split():\n",
    "        revWord = word.swapcase()\n",
    "        print(revWord, end=\" \")\n",
    "\n",
    "changeCase(\"My Name is Manjunaath\")\n"
   ]
  },
  {
   "cell_type": "code",
   "execution_count": 3,
   "metadata": {},
   "outputs": [
    {
     "name": "stdout",
     "output_type": "stream",
     "text": [
      "I am from Bangalore[::-1] : erolagnaB morf ma I\n",
      "I am from Bangalore[::2] : Ia rmBnaoe\n",
      "I am from Bangalore[:5] : I am \n",
      "I am from Bangalore[:-5] : I am from Bang\n",
      "I am from Bangalore[0:-2] : I am from Bangalo\n"
     ]
    }
   ],
   "source": [
    "# Slicinga string\n",
    "sliceWord = \"I am from Bangalore\"\n",
    "print(sliceWord + \"[::-1] : \" + sliceWord[::-1])\n",
    "print(sliceWord + \"[::2] : \" + sliceWord[::2])\n",
    "print(sliceWord + \"[:5] : \" + sliceWord[:5])\n",
    "print(sliceWord + \"[:-5] : \" + sliceWord[:-5])\n",
    "print(sliceWord + \"[0:-2] : \" + sliceWord[0:-2])"
   ]
  },
  {
   "cell_type": "code",
   "execution_count": null,
   "metadata": {},
   "outputs": [
    {
     "name": "stdout",
     "output_type": "stream",
     "text": [
      "My name is John, I am 36\n",
      "My name is John, I am 36.00\n",
      "1234567890.12346\n",
      "1234567890.1234567\n",
      "1234567890.1234567\n",
      "100100\n",
      "44\n"
     ]
    }
   ],
   "source": [
    "age = 36\n",
    "age1 = 1234567890.1234567890\n",
    "txt = f\"My name is John, I am {age}\"\n",
    "txt1 = f\"My name is John, I am {age:.2f}\"\n",
    "print(txt)\n",
    "print(txt1)\n",
    "txt2 = f\"{age1:.5f}\"\n",
    "print(txt2)\n",
    "txt2 = f\"{age1:<3}\"\n",
    "print(txt2)\n",
    "txt2 = f\"{age1:>4}\"\n",
    "print(txt2)\n",
    "txt2 = f\"{age:b}\"\n",
    "print(txt2)\n",
    "txt2 = f\"{age:o}\"\n",
    "print(txt2)"
   ]
  },
  {
   "cell_type": "code",
   "execution_count": null,
   "metadata": {},
   "outputs": [
    {
     "name": "stdout",
     "output_type": "stream",
     "text": [
      "b'My name is Stble'\n",
      "False\n",
      "sgddfs\n",
      "Sgddfs\n"
     ]
    }
   ],
   "source": [
    "txt = \"My name is Stble\"\n",
    "\n",
    "x = txt.encode()\n",
    "txt1 = \"sgddfs\"\n",
    "print(x)\n",
    "print(txt1.isdigit())\n",
    "print(txt1.lower())\n",
    "print(txt1.capitalize())"
   ]
  },
  {
   "cell_type": "code",
   "execution_count": 11,
   "metadata": {},
   "outputs": [
    {
     "ename": "SyntaxError",
     "evalue": "invalid syntax (177081459.py, line 4)",
     "output_type": "error",
     "traceback": [
      "\u001b[1;36m  Cell \u001b[1;32mIn[11], line 4\u001b[1;36m\u001b[0m\n\u001b[1;33m    num=(i+=1)%2\u001b[0m\n\u001b[1;37m          ^\u001b[0m\n\u001b[1;31mSyntaxError\u001b[0m\u001b[1;31m:\u001b[0m invalid syntax\n"
     ]
    }
   ],
   "source": [
    "def naturalNumbers(n):\n",
    "    num=0\n",
    "    for i in range(num,n):\n",
    "        j=i+1\n",
    "        num=j%2\n",
    "        if num==1:\n",
    "            print(i, end=\",\")\n",
    "\n",
    "naturalNumbers(20)"
   ]
  },
  {
   "cell_type": "code",
   "execution_count": null,
   "metadata": {},
   "outputs": [],
   "source": []
  }
 ],
 "metadata": {
  "kernelspec": {
   "display_name": "base",
   "language": "python",
   "name": "python3"
  },
  "language_info": {
   "codemirror_mode": {
    "name": "ipython",
    "version": 3
   },
   "file_extension": ".py",
   "mimetype": "text/x-python",
   "name": "python",
   "nbconvert_exporter": "python",
   "pygments_lexer": "ipython3",
   "version": "3.12.3"
  }
 },
 "nbformat": 4,
 "nbformat_minor": 2
}
