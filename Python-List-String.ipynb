{
 "cells": [
  {
   "cell_type": "code",
   "execution_count": 2,
   "metadata": {},
   "outputs": [
    {
     "name": "stdout",
     "output_type": "stream",
     "text": [
      "True False\n",
      "<class 'bool'>\n"
     ]
    }
   ],
   "source": [
    "\n",
    "\n",
    "print(True, False)\n",
    "print(type(True))"
   ]
  },
  {
   "cell_type": "code",
   "execution_count": 6,
   "metadata": {},
   "outputs": [
    {
     "name": "stdout",
     "output_type": "stream",
     "text": [
      "isalnum :  False\n",
      "isdigit :  False\n",
      "isalpha :  False\n",
      "istitle :  True\n",
      "islower :  False\n",
      "isupper :  False\n",
      "isspace :  False\n",
      "endswith :  False\n",
      "startswith :  False\n"
     ]
    }
   ],
   "source": [
    "my_str=\"Manjunaath S G G\"\n",
    "print(\"isalnum : \", my_str.isalnum())\n",
    "print(\"isdigit : \", my_str.isdigit())\n",
    "print(\"isalpha : \", my_str.isalpha())\n",
    "print(\"istitle : \", my_str.istitle())\n",
    "print(\"islower : \", my_str.islower())\n",
    "print(\"isupper : \", my_str.isupper())\n",
    "print(\"isspace : \", my_str.isspace())\n",
    "print(\"endswith : \", my_str.endswith(\"D\"))\n",
    "print(\"startswith : \", my_str.startswith(\"D\"))\n"
   ]
  },
  {
   "cell_type": "code",
   "execution_count": 7,
   "metadata": {},
   "outputs": [
    {
     "name": "stdout",
     "output_type": "stream",
     "text": [
      "['Manjunaath', 'S', True, 0]\n"
     ]
    }
   ],
   "source": [
    "# List - mutable changeable ordered, mixed data type \n",
    "\n",
    "lst1=[\"Manjunaath\", \"S\", True, 0]\n",
    "print(lst1)\n"
   ]
  },
  {
   "cell_type": "code",
   "execution_count": 8,
   "metadata": {},
   "outputs": [
    {
     "name": "stdout",
     "output_type": "stream",
     "text": [
      "<class 'list'>\n"
     ]
    }
   ],
   "source": [
    "print(type(lst1))"
   ]
  },
  {
   "cell_type": "code",
   "execution_count": 12,
   "metadata": {},
   "outputs": [
    {
     "name": "stdout",
     "output_type": "stream",
     "text": [
      "['Manjunaath', 'S', True, 0, '100', '100', '200']\n"
     ]
    }
   ],
   "source": [
    "lst1.append(\"200\")\n",
    "print(lst1)"
   ]
  },
  {
   "cell_type": "code",
   "execution_count": 14,
   "metadata": {},
   "outputs": [
    {
     "name": "stdout",
     "output_type": "stream",
     "text": [
      "['Manjunaath', 'S', True, 0, '100', '100', '200', '300', 'Raj']\n"
     ]
    }
   ],
   "source": [
    "lst1.extend([\"300\", \"Raj\"])\n",
    "print(lst1)"
   ]
  },
  {
   "cell_type": "code",
   "execution_count": 15,
   "metadata": {},
   "outputs": [
    {
     "name": "stdout",
     "output_type": "stream",
     "text": [
      "Raj\n"
     ]
    }
   ],
   "source": [
    "print(lst1.pop())"
   ]
  },
  {
   "cell_type": "code",
   "execution_count": 16,
   "metadata": {},
   "outputs": [
    {
     "name": "stdout",
     "output_type": "stream",
     "text": [
      "['Manjunaath', 'S', True, 0, '100', '100', '200', '300']\n"
     ]
    }
   ],
   "source": [
    "print(lst1)"
   ]
  },
  {
   "cell_type": "code",
   "execution_count": 17,
   "metadata": {},
   "outputs": [
    {
     "name": "stdout",
     "output_type": "stream",
     "text": [
      "100\n"
     ]
    }
   ],
   "source": [
    "print(lst1[5])"
   ]
  },
  {
   "cell_type": "code",
   "execution_count": 18,
   "metadata": {},
   "outputs": [
    {
     "name": "stdout",
     "output_type": "stream",
     "text": [
      "['Manjunaath', 'S', True, 0, '100', '100', '200', '300']\n",
      "['Manjunaath', 'S', True, 0, '100', '100', '200']\n"
     ]
    }
   ],
   "source": [
    "print(lst1)\n",
    "\n",
    "print(lst1[:-1])"
   ]
  },
  {
   "cell_type": "code",
   "execution_count": 19,
   "metadata": {},
   "outputs": [
    {
     "name": "stdout",
     "output_type": "stream",
     "text": [
      "['Manjunaath', 'S', True, 0, '100', '100', '200', '300']\n",
      "['S']\n"
     ]
    }
   ],
   "source": [
    "print(lst1)\n",
    "print(lst1[1:2])"
   ]
  },
  {
   "cell_type": "code",
   "execution_count": 23,
   "metadata": {},
   "outputs": [
    {
     "name": "stdout",
     "output_type": "stream",
     "text": [
      "['Manjunaath', 'S', True, 0, '100', '100', '200', '300']\n",
      "['100', '200', '300']\n"
     ]
    }
   ],
   "source": [
    "print(lst1)\n",
    "print(lst1[-3:])"
   ]
  },
  {
   "cell_type": "code",
   "execution_count": 24,
   "metadata": {},
   "outputs": [
    {
     "name": "stdout",
     "output_type": "stream",
     "text": [
      "['S']\n"
     ]
    }
   ],
   "source": [
    "print(lst1[1:2:2])"
   ]
  },
  {
   "cell_type": "code",
   "execution_count": 28,
   "metadata": {},
   "outputs": [
    {
     "name": "stdout",
     "output_type": "stream",
     "text": [
      "['Manjunaath', 'S', True, 'Shruthi', 0, '100', '100', '200', '300']\n"
     ]
    }
   ],
   "source": [
    "lst1.insert(3, \"Shruthi\")\n",
    "print(lst1)"
   ]
  },
  {
   "cell_type": "code",
   "execution_count": 31,
   "metadata": {},
   "outputs": [
    {
     "name": "stdout",
     "output_type": "stream",
     "text": [
      "Appending test ['Manjunaath', 'S', True, 'Shruthi', 0, '100', '100', '200', '300', 'test', 'test']\n"
     ]
    }
   ],
   "source": [
    "lst1.append(\"test\")\n",
    "print(\"Appending test : \",lst1)"
   ]
  },
  {
   "cell_type": "code",
   "execution_count": 30,
   "metadata": {},
   "outputs": [
    {
     "name": "stdout",
     "output_type": "stream",
     "text": [
      "Maximum :  104\n",
      "Minimum :  -103\n"
     ]
    }
   ],
   "source": [
    "lst2=[100,101,-103,104]\n",
    "print(\"Maximum : \",max(lst2))\n",
    "\n",
    "print(\"Minimum : \", min(lst2))"
   ]
  },
  {
   "cell_type": "code",
   "execution_count": null,
   "metadata": {},
   "outputs": [],
   "source": []
  }
 ],
 "metadata": {
  "kernelspec": {
   "display_name": "base",
   "language": "python",
   "name": "python3"
  },
  "language_info": {
   "codemirror_mode": {
    "name": "ipython",
    "version": 3
   },
   "file_extension": ".py",
   "mimetype": "text/x-python",
   "name": "python",
   "nbconvert_exporter": "python",
   "pygments_lexer": "ipython3",
   "version": "3.11.7"
  }
 },
 "nbformat": 4,
 "nbformat_minor": 2
}
