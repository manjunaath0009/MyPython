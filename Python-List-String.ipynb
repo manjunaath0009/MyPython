{
 "cells": [
  {
   "cell_type": "code",
   "execution_count": 2,
   "metadata": {},
   "outputs": [
    {
     "name": "stdout",
     "output_type": "stream",
     "text": [
      "True False\n",
      "<class 'bool'>\n"
     ]
    }
   ],
   "source": [
    "\n",
    "\n",
    "print(True, False)\n",
    "print(type(True))"
   ]
  },
  {
   "cell_type": "code",
   "execution_count": 6,
   "metadata": {},
   "outputs": [
    {
     "name": "stdout",
     "output_type": "stream",
     "text": [
      "isalnum :  False\n",
      "isdigit :  False\n",
      "isalpha :  False\n",
      "istitle :  True\n",
      "islower :  False\n",
      "isupper :  False\n",
      "isspace :  False\n",
      "endswith :  False\n",
      "startswith :  False\n"
     ]
    }
   ],
   "source": [
    "my_str=\"Manjunaath S G G\"\n",
    "print(\"isalnum : \", my_str.isalnum())\n",
    "print(\"isdigit : \", my_str.isdigit())\n",
    "print(\"isalpha : \", my_str.isalpha())\n",
    "print(\"istitle : \", my_str.istitle())\n",
    "print(\"islower : \", my_str.islower())\n",
    "print(\"isupper : \", my_str.isupper())\n",
    "print(\"isspace : \", my_str.isspace())\n",
    "print(\"endswith : \", my_str.endswith(\"D\"))\n",
    "print(\"startswith : \", my_str.startswith(\"D\"))\n"
   ]
  },
  {
   "cell_type": "code",
   "execution_count": 7,
   "metadata": {},
   "outputs": [
    {
     "name": "stdout",
     "output_type": "stream",
     "text": [
      "['Manjunaath', 'S', True, 0]\n"
     ]
    }
   ],
   "source": [
    "# List - mutable changeable ordered, mixed data type \n",
    "\n",
    "lst1=[\"Manjunaath\", \"S\", True, 0]\n",
    "print(lst1)\n"
   ]
  },
  {
   "cell_type": "code",
   "execution_count": 8,
   "metadata": {},
   "outputs": [
    {
     "name": "stdout",
     "output_type": "stream",
     "text": [
      "<class 'list'>\n"
     ]
    }
   ],
   "source": [
    "print(type(lst1))"
   ]
  },
  {
   "cell_type": "code",
   "execution_count": 12,
   "metadata": {},
   "outputs": [
    {
     "name": "stdout",
     "output_type": "stream",
     "text": [
      "['Manjunaath', 'S', True, 0, '100', '100', '200']\n"
     ]
    }
   ],
   "source": [
    "lst1.append(\"200\")\n",
    "print(lst1)"
   ]
  },
  {
   "cell_type": "code",
   "execution_count": 14,
   "metadata": {},
   "outputs": [
    {
     "name": "stdout",
     "output_type": "stream",
     "text": [
      "['Manjunaath', 'S', True, 0, '100', '100', '200', '300', 'Raj']\n"
     ]
    }
   ],
   "source": [
    "lst1.extend([\"300\", \"Raj\"])\n",
    "print(lst1)"
   ]
  },
  {
   "cell_type": "code",
   "execution_count": 15,
   "metadata": {},
   "outputs": [
    {
     "name": "stdout",
     "output_type": "stream",
     "text": [
      "Raj\n"
     ]
    }
   ],
   "source": [
    "print(lst1.pop())"
   ]
  },
  {
   "cell_type": "code",
   "execution_count": 16,
   "metadata": {},
   "outputs": [
    {
     "name": "stdout",
     "output_type": "stream",
     "text": [
      "['Manjunaath', 'S', True, 0, '100', '100', '200', '300']\n"
     ]
    }
   ],
   "source": [
    "print(lst1)"
   ]
  },
  {
   "cell_type": "code",
   "execution_count": 17,
   "metadata": {},
   "outputs": [
    {
     "name": "stdout",
     "output_type": "stream",
     "text": [
      "100\n"
     ]
    }
   ],
   "source": [
    "print(lst1[5])"
   ]
  },
  {
   "cell_type": "code",
   "execution_count": 18,
   "metadata": {},
   "outputs": [
    {
     "name": "stdout",
     "output_type": "stream",
     "text": [
      "['Manjunaath', 'S', True, 0, '100', '100', '200', '300']\n",
      "['Manjunaath', 'S', True, 0, '100', '100', '200']\n"
     ]
    }
   ],
   "source": [
    "print(lst1)\n",
    "\n",
    "print(lst1[:-1])"
   ]
  },
  {
   "cell_type": "code",
   "execution_count": 19,
   "metadata": {},
   "outputs": [
    {
     "name": "stdout",
     "output_type": "stream",
     "text": [
      "['Manjunaath', 'S', True, 0, '100', '100', '200', '300']\n",
      "['S']\n"
     ]
    }
   ],
   "source": [
    "print(lst1)\n",
    "print(lst1[1:2])"
   ]
  },
  {
   "cell_type": "code",
   "execution_count": 23,
   "metadata": {},
   "outputs": [
    {
     "name": "stdout",
     "output_type": "stream",
     "text": [
      "['Manjunaath', 'S', True, 0, '100', '100', '200', '300']\n",
      "['100', '200', '300']\n"
     ]
    }
   ],
   "source": [
    "print(lst1)\n",
    "print(lst1[-3:])"
   ]
  },
  {
   "cell_type": "code",
   "execution_count": 24,
   "metadata": {},
   "outputs": [
    {
     "name": "stdout",
     "output_type": "stream",
     "text": [
      "['S']\n"
     ]
    }
   ],
   "source": [
    "print(lst1[1:2:2])"
   ]
  },
  {
   "cell_type": "code",
   "execution_count": 28,
   "metadata": {},
   "outputs": [
    {
     "name": "stdout",
     "output_type": "stream",
     "text": [
      "['Manjunaath', 'S', True, 'Shruthi', 0, '100', '100', '200', '300']\n"
     ]
    }
   ],
   "source": [
    "lst1.insert(3, \"Shruthi\")\n",
    "print(lst1)"
   ]
  },
  {
   "cell_type": "code",
   "execution_count": 31,
   "metadata": {},
   "outputs": [
    {
     "name": "stdout",
     "output_type": "stream",
     "text": [
      "Appending test ['Manjunaath', 'S', True, 'Shruthi', 0, '100', '100', '200', '300', 'test', 'test']\n"
     ]
    }
   ],
   "source": [
    "lst1.append(\"test\")\n",
    "print(\"Appending test : \",lst1)"
   ]
  },
  {
   "cell_type": "code",
   "execution_count": 30,
   "metadata": {},
   "outputs": [
    {
     "name": "stdout",
     "output_type": "stream",
     "text": [
      "Maximum :  104\n",
      "Minimum :  -103\n"
     ]
    }
   ],
   "source": [
    "lst2=[100,101,-103,104]\n",
    "print(\"Maximum : \",max(lst2))\n",
    "\n",
    "print(\"Minimum : \", min(lst2))"
   ]
  },
  {
   "cell_type": "code",
   "execution_count": 32,
   "metadata": {},
   "outputs": [
    {
     "name": "stdout",
     "output_type": "stream",
     "text": [
      "set()\n",
      "<class 'set'>\n"
     ]
    }
   ],
   "source": [
    "# Sets : unordered collection of data, iterable, mutable, no duplicates are allowed\n",
    "\n",
    "set_var=set()\n",
    "print(set_var)\n",
    "print(type(set_var))"
   ]
  },
  {
   "cell_type": "code",
   "execution_count": 33,
   "metadata": {},
   "outputs": [
    {
     "name": "stdout",
     "output_type": "stream",
     "text": [
      "('A', 'Ball', 10)\n"
     ]
    }
   ],
   "source": [
    "set_var=(\"A\", \"Ball\", 10)\n",
    "print(set_var)"
   ]
  },
  {
   "cell_type": "code",
   "execution_count": 39,
   "metadata": {},
   "outputs": [
    {
     "name": "stdout",
     "output_type": "stream",
     "text": [
      "{'testelement', 10, 'Ball', 'A'}\n"
     ]
    }
   ],
   "source": [
    "set_var={\"A\", \"Ball\", 10}\n",
    "set_var.add(\"testelement\")\n",
    "print(set_var)"
   ]
  },
  {
   "cell_type": "code",
   "execution_count": 46,
   "metadata": {},
   "outputs": [
    {
     "name": "stdout",
     "output_type": "stream",
     "text": [
      "Difference :  {20}\n",
      "Difference Update :  None\n",
      "Intersection :  set()\n"
     ]
    }
   ],
   "source": [
    "set_var1={\"A\", \"Ball\", 10}\n",
    "set_var2={\"A\", \"Ball\", 20, 10}\n",
    "print(\"Difference : \", set_var2.difference(set_var1))\n",
    "print(\"Difference Update : \", set_var1.difference_update(set_var2))\n",
    "print(\"Intersection : \", set_var2.intersection(set_var1))"
   ]
  },
  {
   "cell_type": "code",
   "execution_count": 47,
   "metadata": {},
   "outputs": [
    {
     "name": "stdout",
     "output_type": "stream",
     "text": [
      "{}\n",
      "<class 'dict'>\n"
     ]
    }
   ],
   "source": [
    "# Dictionary : Key-Value pair, unordered, indexed, changeble\n",
    "dict={}\n",
    "print(dict)\n",
    "print(type(dict))"
   ]
  },
  {
   "cell_type": "code",
   "execution_count": 48,
   "metadata": {},
   "outputs": [
    {
     "name": "stdout",
     "output_type": "stream",
     "text": [
      "{'A': 'Apple', 'B': 'Ball', 'C': 'Cat'}\n"
     ]
    }
   ],
   "source": [
    "my_dict={\"A\": \"Apple\", \"B\": \"Ball\", \"C\": \"Cat\"}\n",
    "\n",
    "print(my_dict)"
   ]
  },
  {
   "cell_type": "code",
   "execution_count": 52,
   "metadata": {},
   "outputs": [
    {
     "name": "stdout",
     "output_type": "stream",
     "text": [
      "A\n",
      "B\n",
      "C\n",
      "Keys:  A\n",
      "Keys:  B\n",
      "Keys:  C\n",
      "Values:  Apple\n",
      "Values:  Ball\n",
      "Values:  Cat\n",
      "Items:  ('A', 'Apple')\n",
      "Items:  ('B', 'Ball')\n",
      "Items:  ('C', 'Cat')\n"
     ]
    }
   ],
   "source": [
    "for x in my_dict:\n",
    "    print(x)\n",
    "    \n",
    "\n",
    "for x in my_dict.keys():\n",
    "    print(\"Keys: \", x)\n",
    "    \n",
    "\n",
    "for x in my_dict.values():\n",
    "    print(\"Values: \", x)    \n",
    "    \n",
    "\n",
    "for x in my_dict.items():\n",
    "    print(\"Items: \", x)    "
   ]
  },
  {
   "cell_type": "code",
   "execution_count": 55,
   "metadata": {},
   "outputs": [
    {
     "name": "stdout",
     "output_type": "stream",
     "text": [
      "{'A': 'Apple', 'B': 'Ball', 'C': 'Cat'}\n",
      "{'A': 'Apple', 'B': 'Ball', 'C': 'Cat', 'D': 'Dog'}\n"
     ]
    }
   ],
   "source": [
    "my_dict={\"A\": \"Apple\", \"B\": \"Ball\", \"C\": \"Cat\"}\n",
    "print(my_dict)\n",
    "\n",
    "my_dict[\"D\"]=\"Dog\"\n",
    "print(my_dict)"
   ]
  },
  {
   "cell_type": "code",
   "execution_count": 63,
   "metadata": {},
   "outputs": [
    {
     "name": "stdout",
     "output_type": "stream",
     "text": [
      "{'car1': {'2000', 'A'}, 'car2': {'B', '3000'}, 'car3': {'C', '4000'}}\n",
      "{'2000', 'A'}\n"
     ]
    }
   ],
   "source": [
    "# Nested Dictionary\n",
    "\n",
    "car1={\"A\", \"2000\"}\n",
    "car2={\"B\", \"3000\"}\n",
    "car3={\"C\", \"4000\"}\n",
    "\n",
    "car_type={\"car1\": car1, \"car2\": car2, \"car3\": car3}\n",
    "print(car_type)\n",
    "\n",
    "print(car_type[\"car1\"])"
   ]
  },
  {
   "cell_type": "code",
   "execution_count": 66,
   "metadata": {},
   "outputs": [
    {
     "name": "stdout",
     "output_type": "stream",
     "text": [
      "()\n",
      "<class 'tuple'>\n"
     ]
    }
   ],
   "source": [
    "# Tuples : not mutable, cannot change the element\n",
    "\n",
    "my_tuple=()\n",
    "print(my_tuple)\n",
    "print(type(my_tuple))\n",
    "\n"
   ]
  },
  {
   "cell_type": "code",
   "execution_count": 67,
   "metadata": {},
   "outputs": [
    {
     "data": {
      "text/plain": [
       "'A'"
      ]
     },
     "execution_count": 67,
     "metadata": {},
     "output_type": "execute_result"
    }
   ],
   "source": [
    "my_tuple=(\"A\", \"B\", \"C\")\n",
    "my_tuple[0]"
   ]
  },
  {
   "cell_type": "code",
   "execution_count": 68,
   "metadata": {},
   "outputs": [
    {
     "data": {
      "text/plain": [
       "1"
      ]
     },
     "execution_count": 68,
     "metadata": {},
     "output_type": "execute_result"
    }
   ],
   "source": [
    "my_tuple.count('A')"
   ]
  },
  {
   "cell_type": "code",
   "execution_count": 70,
   "metadata": {},
   "outputs": [
    {
     "data": {
      "text/plain": [
       "2"
      ]
     },
     "execution_count": 70,
     "metadata": {},
     "output_type": "execute_result"
    }
   ],
   "source": [
    "my_tuple.index('C')"
   ]
  },
  {
   "cell_type": "code",
   "execution_count": null,
   "metadata": {},
   "outputs": [],
   "source": []
  }
 ],
 "metadata": {
  "kernelspec": {
   "display_name": "base",
   "language": "python",
   "name": "python3"
  },
  "language_info": {
   "codemirror_mode": {
    "name": "ipython",
    "version": 3
   },
   "file_extension": ".py",
   "mimetype": "text/x-python",
   "name": "python",
   "nbconvert_exporter": "python",
   "pygments_lexer": "ipython3",
   "version": "3.11.7"
  }
 },
 "nbformat": 4,
 "nbformat_minor": 2
}
