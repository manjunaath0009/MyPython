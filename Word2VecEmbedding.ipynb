{
  "nbformat": 4,
  "nbformat_minor": 0,
  "metadata": {
    "colab": {
      "provenance": [],
      "authorship_tag": "ABX9TyOqmLaGkl+4MP1RalcS0+tU",
      "include_colab_link": true
    },
    "kernelspec": {
      "name": "python3",
      "display_name": "Python 3"
    },
    "language_info": {
      "name": "python"
    }
  },
  "cells": [
    {
      "cell_type": "markdown",
      "metadata": {
        "id": "view-in-github",
        "colab_type": "text"
      },
      "source": [
        "<a href=\"https://colab.research.google.com/github/manjunaath0009/MyPython/blob/master/Word2VecEmbedding.ipynb\" target=\"_parent\"><img src=\"https://colab.research.google.com/assets/colab-badge.svg\" alt=\"Open In Colab\"/></a>"
      ]
    },
    {
      "cell_type": "code",
      "execution_count": 6,
      "metadata": {
        "colab": {
          "base_uri": "https://localhost:8080/",
          "height": 110
        },
        "id": "um5BolsD3acE",
        "outputId": "6c39c5df-199f-46f6-a57f-51472e938a12"
      },
      "outputs": [
        {
          "output_type": "error",
          "ename": "SyntaxError",
          "evalue": "(unicode error) 'unicodeescape' codec can't decode bytes in position 2-3: truncated \\UXXXXXXXX escape (<ipython-input-6-88b58fbc4c81>, line 13)",
          "traceback": [
            "\u001b[0;36m  File \u001b[0;32m\"<ipython-input-6-88b58fbc4c81>\"\u001b[0;36m, line \u001b[0;32m13\u001b[0m\n\u001b[0;31m    sample = open(\"C:\\Users\\Admin\\OneDrive\\Documents\\Python-KrishNaik\\Word2VecEmbedding.txt\")\u001b[0m\n\u001b[0m                                                                                            ^\u001b[0m\n\u001b[0;31mSyntaxError\u001b[0m\u001b[0;31m:\u001b[0m (unicode error) 'unicodeescape' codec can't decode bytes in position 2-3: truncated \\UXXXXXXXX escape\n"
          ]
        }
      ],
      "source": [
        "# Python program to generate word vectors using Word2Vec\n",
        "\n",
        "# importing all necessary modules\n",
        "from gensim.models import Word2Vec\n",
        "import gensim\n",
        "from nltk.tokenize import sent_tokenize, word_tokenize\n",
        "import warnings\n",
        "\n",
        "warnings.filterwarnings(action='ignore')\n",
        "\n",
        "\n",
        "#  Reads ‘alice.txt’ file\n",
        "sample = open(\"C:\\Users\\Admin\\OneDrive\\Documents\\Python-KrishNaik\\Word2VecEmbedding.txt\")\n",
        "s = sample.read()\n",
        "\n",
        "# Replaces escape character with space\n",
        "f = s.replace(\"\\n\", \" \")\n",
        "\n",
        "data = []\n",
        "\n",
        "# iterate through each sentence in the file\n",
        "for i in sent_tokenize(f):\n",
        "    temp = []\n",
        "\n",
        "    # tokenize the sentence into words\n",
        "    for j in word_tokenize(i):\n",
        "        temp.append(j.lower())\n",
        "\n",
        "    data.append(temp)\n",
        "\n",
        "# Create CBOW model\n",
        "model1 = gensim.models.Word2Vec(data, min_count=1,\n",
        "                                vector_size=100, window=5)\n",
        "\n",
        "# Print results\n",
        "print(\"Cosine similarity between 'alice' \" +\n",
        "      \"and 'wonderland' - CBOW : \",\n",
        "      model1.wv.similarity('alice', 'wonderland'))\n",
        "\n",
        "print(\"Cosine similarity between 'alice' \" +\n",
        "      \"and 'machines' - CBOW : \",\n",
        "      model1.wv.similarity('alice', 'machines'))\n",
        "\n",
        "# Create Skip Gram model\n",
        "model2 = gensim.models.Word2Vec(data, min_count=1, vector_size=100,\n",
        "                                window=5, sg=1)\n",
        "\n",
        "# Print results\n",
        "print(\"Cosine similarity between 'alice' \" +\n",
        "      \"and 'wonderland' - Skip Gram : \",\n",
        "      model2.wv.similarity('alice', 'wonderland'))\n",
        "\n",
        "print(\"Cosine similarity between 'alice' \" +\n",
        "      \"and 'machines' - Skip Gram : \",\n",
        "      model2.wv.similarity('alice', 'machines'))"
      ]
    }
  ]
}