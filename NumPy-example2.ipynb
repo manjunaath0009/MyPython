{
 "cells": [
  {
   "cell_type": "code",
   "execution_count": 1,
   "metadata": {},
   "outputs": [
    {
     "name": "stdout",
     "output_type": "stream",
     "text": [
      "3\n",
      "4\n",
      "5\n",
      "squared is (2, 4)\n"
     ]
    }
   ],
   "source": [
    "x = range(3, 6)\n",
    "for n in x:\n",
    "  print(n)\n",
    "  \n",
    "import numpy as np\n",
    "def square(x):\n",
    "    return x * x\n",
    "# note that &#37; is a percentage sign, and it needs to be replaced with actual percent symbol.`\n",
    "x = np.random.randint(1, 10)\n",
    "y = square(x)\n",
    "print('squared is', (x, y))\n",
    "y=np.random.randint(2,5)"
   ]
  },
  {
   "cell_type": "code",
   "execution_count": null,
   "metadata": {},
   "outputs": [],
   "source": []
  },
  {
   "cell_type": "code",
   "execution_count": 23,
   "metadata": {},
   "outputs": [
    {
     "name": "stdout",
     "output_type": "stream",
     "text": [
      "[1 2 3 4 5]\n",
      "[1 2 3 4 5]\n",
      "<class 'numpy.ndarray'>\n",
      "[1 2 3 4]\n",
      "<class 'numpy.ndarray'>\n",
      "[[1 2 3 4 5]\n",
      " [5 4 3 2 1]]\n",
      "<class 'numpy.ndarray'>\n",
      "[[1 2 3 4]\n",
      " [4 3 2 1]]\n",
      "<class 'numpy.ndarray'>\n",
      "2\n",
      "5\n",
      "[[1 2 3]\n",
      " [4 5 6]\n",
      " [1 2 3]\n",
      " [4 5 6]]\n",
      "4\n",
      "[0.01006148 0.10021944 0.83305735 0.40774549 0.97702053 0.9364936\n",
      " 0.26051002 0.79133232 0.60015398 0.51352299]\n",
      "[-0.95536907  0.09627115  2.59393019 -1.25189629 -0.90341403 -1.29101773\n",
      " -0.58790576  0.65577478  0.66587746  0.36857785  0.79765829  1.40011358\n",
      "  0.02867106 -1.63128697 -1.27231847  1.5103443  -0.62088367  1.69201265\n",
      " -1.32203191 -1.71380447 -0.18459149 -0.65772788 -1.12183499]\n"
     ]
    }
   ],
   "source": [
    "import numpy\n",
    "arr = numpy.array([1,2,3,4,5])\n",
    "print(arr)\n",
    "\n",
    "import numpy as np\n",
    "arr = np.array([1,2,3,4,5])\n",
    "print(arr)\n",
    "print(type(arr))\n",
    "\n",
    "arr=np.array((1,2,3,4))\n",
    "print(arr)\n",
    "print(type(arr))\n",
    "\n",
    "\n",
    "arr = np.array([[1,2,3,4,5],[5,4,3,2,1]])\n",
    "print(arr)\n",
    "print(type(arr))\n",
    "\n",
    "arr=np.array(((1,2,3,4), (4,3,2,1)))\n",
    "print(arr)\n",
    "print(type(arr))\n",
    "print(arr.ndim)\n",
    "\n",
    "print(arr[1,1]+arr[1,2])\n",
    "\n",
    "import numpy\n",
    "arr1 = numpy.array([[1,2,3],[4,5,6]])\n",
    "arr2 = numpy.array([[1,2,3],[4,5,6]])\n",
    "arr=numpy.concatenate((arr1, arr2), axis=0)\n",
    "print(arr)\n",
    "\n",
    "from numpy import random\n",
    "y=random.rand(10)\n",
    "x=random.randint(100)\n",
    "z=random.randn(23)\n",
    "print(x)\n",
    "print(y)\n",
    "print(z)"
   ]
  },
  {
   "cell_type": "code",
   "execution_count": null,
   "metadata": {},
   "outputs": [],
   "source": []
  }
 ],
 "metadata": {
  "kernelspec": {
   "display_name": "base",
   "language": "python",
   "name": "python3"
  },
  "language_info": {
   "codemirror_mode": {
    "name": "ipython",
    "version": 3
   },
   "file_extension": ".py",
   "mimetype": "text/x-python",
   "name": "python",
   "nbconvert_exporter": "python",
   "pygments_lexer": "ipython3",
   "version": "3.11.7"
  }
 },
 "nbformat": 4,
 "nbformat_minor": 2
}
