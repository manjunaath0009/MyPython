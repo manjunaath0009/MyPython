{
 "cells": [
  {
   "cell_type": "code",
   "execution_count": 4,
   "metadata": {},
   "outputs": [
    {
     "name": "stdout",
     "output_type": "stream",
     "text": [
      "    C1  C2  C3  C4\n",
      "R1   0   1   2   3\n",
      "R2   4   5   6   7\n",
      "R3   8   9  10  11\n",
      "R4  12  13  14  15\n",
      "R5  16  17  18  19\n"
     ]
    }
   ],
   "source": [
    "# Pandas is used for Data Structure, Data Analysis, Dataframe, DataSeries, DataSet\n",
    "\n",
    "# Data Frame : DataFrame is a 2 dimensional data structure, like a 2 dimensional array, or a table with rows and columns.\n",
    "# inbuild function DataFrame\n",
    "import pandas as pd\n",
    "import numpy as np\n",
    "\n",
    "\n",
    "df=pd.DataFrame(np.arange(0,20).reshape(5,4),index=[\"R1\", \"R2\", \"R3\", \"R4\", \"R5\"],columns=[\"C1\", \"C2\", \"C3\", \"C4\"])\n",
    "\n",
    "print(df)"
   ]
  },
  {
   "cell_type": "code",
   "execution_count": 5,
   "metadata": {},
   "outputs": [
    {
     "name": "stdout",
     "output_type": "stream",
     "text": [
      "    C1  C2  C3  C4\n",
      "R1   0   1   2   3\n",
      "R2   4   5   6   7\n",
      "R3   8   9  10  11\n",
      "R4  12  13  14  15\n",
      "R5  16  17  18  19\n"
     ]
    }
   ],
   "source": [
    "print(df.head())"
   ]
  },
  {
   "cell_type": "code",
   "execution_count": 8,
   "metadata": {},
   "outputs": [
    {
     "data": {
      "text/html": [
       "<div>\n",
       "<style scoped>\n",
       "    .dataframe tbody tr th:only-of-type {\n",
       "        vertical-align: middle;\n",
       "    }\n",
       "\n",
       "    .dataframe tbody tr th {\n",
       "        vertical-align: top;\n",
       "    }\n",
       "\n",
       "    .dataframe thead th {\n",
       "        text-align: right;\n",
       "    }\n",
       "</style>\n",
       "<table border=\"1\" class=\"dataframe\">\n",
       "  <thead>\n",
       "    <tr style=\"text-align: right;\">\n",
       "      <th></th>\n",
       "      <th>C1</th>\n",
       "      <th>C2</th>\n",
       "      <th>C3</th>\n",
       "      <th>C4</th>\n",
       "    </tr>\n",
       "  </thead>\n",
       "  <tbody>\n",
       "    <tr>\n",
       "      <th>R4</th>\n",
       "      <td>12</td>\n",
       "      <td>13</td>\n",
       "      <td>14</td>\n",
       "      <td>15</td>\n",
       "    </tr>\n",
       "    <tr>\n",
       "      <th>R5</th>\n",
       "      <td>16</td>\n",
       "      <td>17</td>\n",
       "      <td>18</td>\n",
       "      <td>19</td>\n",
       "    </tr>\n",
       "  </tbody>\n",
       "</table>\n",
       "</div>"
      ],
      "text/plain": [
       "    C1  C2  C3  C4\n",
       "R4  12  13  14  15\n",
       "R5  16  17  18  19"
      ]
     },
     "execution_count": 8,
     "metadata": {},
     "output_type": "execute_result"
    }
   ],
   "source": [
    "df.head(3)\n",
    "df.tail(2)"
   ]
  },
  {
   "cell_type": "code",
   "execution_count": 9,
   "metadata": {},
   "outputs": [
    {
     "name": "stdout",
     "output_type": "stream",
     "text": [
      "None\n",
      "None\n",
      "None\n",
      "None\n",
      "None\n"
     ]
    }
   ],
   "source": [
    "print(df.to_csv(\"1.csv\"))\n",
    "print(df.to_json(\"1.json\"))\n",
    "print(df.to_xml(\"1.xml\"))\n",
    "print(df.to_excel(\"1.xlsx\"))\n",
    "print(df.to_html(\"1.html\"))"
   ]
  },
  {
   "cell_type": "code",
   "execution_count": 16,
   "metadata": {},
   "outputs": [
    {
     "name": "stdout",
     "output_type": "stream",
     "text": [
      "C1    0\n",
      "C2    1\n",
      "C3    2\n",
      "C4    3\n",
      "Name: R1, dtype: int32\n"
     ]
    }
   ],
   "source": [
    "# Accessing the elements\n",
    "# .loc : location; .iloc : index location\n",
    "\n",
    "print(df.loc[\"R1\"])"
   ]
  },
  {
   "cell_type": "code",
   "execution_count": 21,
   "metadata": {},
   "outputs": [
    {
     "name": "stdout",
     "output_type": "stream",
     "text": [
      "    C1  C2  C3  C4\n",
      "R1   0   1   2   3\n",
      "R2   4   5   6   7\n",
      "R3   8   9  10  11\n",
      "R4  12  13  14  15\n",
      "R5  16  17  18  19\n",
      "\n",
      "    C3\n",
      "R2   6\n"
     ]
    }
   ],
   "source": [
    "print(df.iloc[:,:])\n",
    "print()\n",
    "print(df.iloc[1:2,2:3])"
   ]
  },
  {
   "cell_type": "code",
   "execution_count": 25,
   "metadata": {},
   "outputs": [
    {
     "name": "stdout",
     "output_type": "stream",
     "text": [
      "[[ 0  1  2  3]\n",
      " [ 4  5  6  7]\n",
      " [ 8  9 10 11]\n",
      " [12 13 14 15]\n",
      " [16 17 18 19]]\n",
      "\n",
      "(5, 4)\n"
     ]
    }
   ],
   "source": [
    "# convert Dataframe into array\n",
    "\n",
    "print(df.iloc[:,:].values)\n",
    "\n",
    "print()\n",
    "print(df.iloc[:,:].values.shape)"
   ]
  },
  {
   "cell_type": "code",
   "execution_count": 26,
   "metadata": {},
   "outputs": [
    {
     "data": {
      "text/plain": [
       "C1    0\n",
       "C2    0\n",
       "C3    0\n",
       "C4    0\n",
       "dtype: int64"
      ]
     },
     "execution_count": 26,
     "metadata": {},
     "output_type": "execute_result"
    }
   ],
   "source": [
    "# verify null value in dataframe\n",
    "\n",
    "df.isnull().sum()"
   ]
  },
  {
   "cell_type": "code",
   "execution_count": 27,
   "metadata": {},
   "outputs": [
    {
     "data": {
      "text/plain": [
       "C1\n",
       "0     1\n",
       "4     1\n",
       "8     1\n",
       "12    1\n",
       "16    1\n",
       "Name: count, dtype: int64"
      ]
     },
     "execution_count": 27,
     "metadata": {},
     "output_type": "execute_result"
    }
   ],
   "source": [
    "print(df[\"C1\"].value_counts(sort=True))"
   ]
  },
  {
   "cell_type": "code",
   "execution_count": 28,
   "metadata": {},
   "outputs": [
    {
     "name": "stdout",
     "output_type": "stream",
     "text": [
      "[ 0  4  8 12 16]\n"
     ]
    }
   ],
   "source": [
    "print(df[\"C1\"].unique())"
   ]
  },
  {
   "cell_type": "code",
   "execution_count": 29,
   "metadata": {},
   "outputs": [
    {
     "data": {
      "text/plain": [
       "R1     2\n",
       "R2     6\n",
       "R3    10\n",
       "R4    14\n",
       "R5    18\n",
       "Name: C3, dtype: int32"
      ]
     },
     "execution_count": 29,
     "metadata": {},
     "output_type": "execute_result"
    }
   ],
   "source": [
    "df[\"C3\"]"
   ]
  },
  {
   "cell_type": "code",
   "execution_count": 32,
   "metadata": {},
   "outputs": [
    {
     "data": {
      "text/html": [
       "<div>\n",
       "<style scoped>\n",
       "    .dataframe tbody tr th:only-of-type {\n",
       "        vertical-align: middle;\n",
       "    }\n",
       "\n",
       "    .dataframe tbody tr th {\n",
       "        vertical-align: top;\n",
       "    }\n",
       "\n",
       "    .dataframe thead th {\n",
       "        text-align: right;\n",
       "    }\n",
       "</style>\n",
       "<table border=\"1\" class=\"dataframe\">\n",
       "  <thead>\n",
       "    <tr style=\"text-align: right;\">\n",
       "      <th></th>\n",
       "      <th>C3</th>\n",
       "      <th>C2</th>\n",
       "    </tr>\n",
       "  </thead>\n",
       "  <tbody>\n",
       "    <tr>\n",
       "      <th>R1</th>\n",
       "      <td>2</td>\n",
       "      <td>1</td>\n",
       "    </tr>\n",
       "    <tr>\n",
       "      <th>R2</th>\n",
       "      <td>6</td>\n",
       "      <td>5</td>\n",
       "    </tr>\n",
       "    <tr>\n",
       "      <th>R3</th>\n",
       "      <td>10</td>\n",
       "      <td>9</td>\n",
       "    </tr>\n",
       "    <tr>\n",
       "      <th>R4</th>\n",
       "      <td>14</td>\n",
       "      <td>13</td>\n",
       "    </tr>\n",
       "    <tr>\n",
       "      <th>R5</th>\n",
       "      <td>18</td>\n",
       "      <td>17</td>\n",
       "    </tr>\n",
       "  </tbody>\n",
       "</table>\n",
       "</div>"
      ],
      "text/plain": [
       "    C3  C2\n",
       "R1   2   1\n",
       "R2   6   5\n",
       "R3  10   9\n",
       "R4  14  13\n",
       "R5  18  17"
      ]
     },
     "execution_count": 32,
     "metadata": {},
     "output_type": "execute_result"
    }
   ],
   "source": [
    "df[[\"C3\", \"C2\"]]"
   ]
  },
  {
   "cell_type": "code",
   "execution_count": 35,
   "metadata": {},
   "outputs": [
    {
     "name": "stdout",
     "output_type": "stream",
     "text": [
      "        ID       y  X0 X1  X2 X3 X4  X5 X6 X8  ...  X375  X376  X377  X378  \\\n",
      "0        0  130.81   k  v  at  a  d   u  j  o  ...     0     0     1     0   \n",
      "1        6   88.53   k  t  av  e  d   y  l  o  ...     1     0     0     0   \n",
      "2        7   76.26  az  w   n  c  d   x  j  x  ...     0     0     0     0   \n",
      "3        9   80.62  az  t   n  f  d   x  l  e  ...     0     0     0     0   \n",
      "4       13   78.02  az  v   n  f  d   h  d  n  ...     0     0     0     0   \n",
      "...    ...     ...  .. ..  .. .. ..  .. .. ..  ...   ...   ...   ...   ...   \n",
      "4204  8405  107.39  ak  s  as  c  d  aa  d  q  ...     1     0     0     0   \n",
      "4205  8406  108.77   j  o   t  d  d  aa  h  h  ...     0     1     0     0   \n",
      "4206  8412  109.22  ak  v   r  a  d  aa  g  e  ...     0     0     1     0   \n",
      "4207  8415   87.48  al  r   e  f  d  aa  l  u  ...     0     0     0     0   \n",
      "4208  8417  110.85   z  r  ae  c  d  aa  g  w  ...     1     0     0     0   \n",
      "\n",
      "      X379  X380  X382  X383  X384  X385  \n",
      "0        0     0     0     0     0     0  \n",
      "1        0     0     0     0     0     0  \n",
      "2        0     0     1     0     0     0  \n",
      "3        0     0     0     0     0     0  \n",
      "4        0     0     0     0     0     0  \n",
      "...    ...   ...   ...   ...   ...   ...  \n",
      "4204     0     0     0     0     0     0  \n",
      "4205     0     0     0     0     0     0  \n",
      "4206     0     0     0     0     0     0  \n",
      "4207     0     0     0     0     0     0  \n",
      "4208     0     0     0     0     0     0  \n",
      "\n",
      "[4209 rows x 378 columns]\n"
     ]
    },
    {
     "data": {
      "text/html": [
       "<div>\n",
       "<style scoped>\n",
       "    .dataframe tbody tr th:only-of-type {\n",
       "        vertical-align: middle;\n",
       "    }\n",
       "\n",
       "    .dataframe tbody tr th {\n",
       "        vertical-align: top;\n",
       "    }\n",
       "\n",
       "    .dataframe thead th {\n",
       "        text-align: right;\n",
       "    }\n",
       "</style>\n",
       "<table border=\"1\" class=\"dataframe\">\n",
       "  <thead>\n",
       "    <tr style=\"text-align: right;\">\n",
       "      <th></th>\n",
       "      <th>ID</th>\n",
       "      <th>y</th>\n",
       "      <th>X10</th>\n",
       "      <th>X11</th>\n",
       "      <th>X12</th>\n",
       "      <th>X13</th>\n",
       "      <th>X14</th>\n",
       "      <th>X15</th>\n",
       "      <th>X16</th>\n",
       "      <th>X17</th>\n",
       "      <th>...</th>\n",
       "      <th>X375</th>\n",
       "      <th>X376</th>\n",
       "      <th>X377</th>\n",
       "      <th>X378</th>\n",
       "      <th>X379</th>\n",
       "      <th>X380</th>\n",
       "      <th>X382</th>\n",
       "      <th>X383</th>\n",
       "      <th>X384</th>\n",
       "      <th>X385</th>\n",
       "    </tr>\n",
       "  </thead>\n",
       "  <tbody>\n",
       "    <tr>\n",
       "      <th>count</th>\n",
       "      <td>4209.000000</td>\n",
       "      <td>4209.000000</td>\n",
       "      <td>4209.000000</td>\n",
       "      <td>4209.0</td>\n",
       "      <td>4209.000000</td>\n",
       "      <td>4209.000000</td>\n",
       "      <td>4209.000000</td>\n",
       "      <td>4209.000000</td>\n",
       "      <td>4209.000000</td>\n",
       "      <td>4209.000000</td>\n",
       "      <td>...</td>\n",
       "      <td>4209.000000</td>\n",
       "      <td>4209.000000</td>\n",
       "      <td>4209.000000</td>\n",
       "      <td>4209.000000</td>\n",
       "      <td>4209.000000</td>\n",
       "      <td>4209.000000</td>\n",
       "      <td>4209.000000</td>\n",
       "      <td>4209.000000</td>\n",
       "      <td>4209.000000</td>\n",
       "      <td>4209.000000</td>\n",
       "    </tr>\n",
       "    <tr>\n",
       "      <th>mean</th>\n",
       "      <td>4205.960798</td>\n",
       "      <td>100.669318</td>\n",
       "      <td>0.013305</td>\n",
       "      <td>0.0</td>\n",
       "      <td>0.075077</td>\n",
       "      <td>0.057971</td>\n",
       "      <td>0.428130</td>\n",
       "      <td>0.000475</td>\n",
       "      <td>0.002613</td>\n",
       "      <td>0.007603</td>\n",
       "      <td>...</td>\n",
       "      <td>0.318841</td>\n",
       "      <td>0.057258</td>\n",
       "      <td>0.314802</td>\n",
       "      <td>0.020670</td>\n",
       "      <td>0.009503</td>\n",
       "      <td>0.008078</td>\n",
       "      <td>0.007603</td>\n",
       "      <td>0.001663</td>\n",
       "      <td>0.000475</td>\n",
       "      <td>0.001426</td>\n",
       "    </tr>\n",
       "    <tr>\n",
       "      <th>std</th>\n",
       "      <td>2437.608688</td>\n",
       "      <td>12.679381</td>\n",
       "      <td>0.114590</td>\n",
       "      <td>0.0</td>\n",
       "      <td>0.263547</td>\n",
       "      <td>0.233716</td>\n",
       "      <td>0.494867</td>\n",
       "      <td>0.021796</td>\n",
       "      <td>0.051061</td>\n",
       "      <td>0.086872</td>\n",
       "      <td>...</td>\n",
       "      <td>0.466082</td>\n",
       "      <td>0.232363</td>\n",
       "      <td>0.464492</td>\n",
       "      <td>0.142294</td>\n",
       "      <td>0.097033</td>\n",
       "      <td>0.089524</td>\n",
       "      <td>0.086872</td>\n",
       "      <td>0.040752</td>\n",
       "      <td>0.021796</td>\n",
       "      <td>0.037734</td>\n",
       "    </tr>\n",
       "    <tr>\n",
       "      <th>min</th>\n",
       "      <td>0.000000</td>\n",
       "      <td>72.110000</td>\n",
       "      <td>0.000000</td>\n",
       "      <td>0.0</td>\n",
       "      <td>0.000000</td>\n",
       "      <td>0.000000</td>\n",
       "      <td>0.000000</td>\n",
       "      <td>0.000000</td>\n",
       "      <td>0.000000</td>\n",
       "      <td>0.000000</td>\n",
       "      <td>...</td>\n",
       "      <td>0.000000</td>\n",
       "      <td>0.000000</td>\n",
       "      <td>0.000000</td>\n",
       "      <td>0.000000</td>\n",
       "      <td>0.000000</td>\n",
       "      <td>0.000000</td>\n",
       "      <td>0.000000</td>\n",
       "      <td>0.000000</td>\n",
       "      <td>0.000000</td>\n",
       "      <td>0.000000</td>\n",
       "    </tr>\n",
       "    <tr>\n",
       "      <th>25%</th>\n",
       "      <td>2095.000000</td>\n",
       "      <td>90.820000</td>\n",
       "      <td>0.000000</td>\n",
       "      <td>0.0</td>\n",
       "      <td>0.000000</td>\n",
       "      <td>0.000000</td>\n",
       "      <td>0.000000</td>\n",
       "      <td>0.000000</td>\n",
       "      <td>0.000000</td>\n",
       "      <td>0.000000</td>\n",
       "      <td>...</td>\n",
       "      <td>0.000000</td>\n",
       "      <td>0.000000</td>\n",
       "      <td>0.000000</td>\n",
       "      <td>0.000000</td>\n",
       "      <td>0.000000</td>\n",
       "      <td>0.000000</td>\n",
       "      <td>0.000000</td>\n",
       "      <td>0.000000</td>\n",
       "      <td>0.000000</td>\n",
       "      <td>0.000000</td>\n",
       "    </tr>\n",
       "    <tr>\n",
       "      <th>50%</th>\n",
       "      <td>4220.000000</td>\n",
       "      <td>99.150000</td>\n",
       "      <td>0.000000</td>\n",
       "      <td>0.0</td>\n",
       "      <td>0.000000</td>\n",
       "      <td>0.000000</td>\n",
       "      <td>0.000000</td>\n",
       "      <td>0.000000</td>\n",
       "      <td>0.000000</td>\n",
       "      <td>0.000000</td>\n",
       "      <td>...</td>\n",
       "      <td>0.000000</td>\n",
       "      <td>0.000000</td>\n",
       "      <td>0.000000</td>\n",
       "      <td>0.000000</td>\n",
       "      <td>0.000000</td>\n",
       "      <td>0.000000</td>\n",
       "      <td>0.000000</td>\n",
       "      <td>0.000000</td>\n",
       "      <td>0.000000</td>\n",
       "      <td>0.000000</td>\n",
       "    </tr>\n",
       "    <tr>\n",
       "      <th>75%</th>\n",
       "      <td>6314.000000</td>\n",
       "      <td>109.010000</td>\n",
       "      <td>0.000000</td>\n",
       "      <td>0.0</td>\n",
       "      <td>0.000000</td>\n",
       "      <td>0.000000</td>\n",
       "      <td>1.000000</td>\n",
       "      <td>0.000000</td>\n",
       "      <td>0.000000</td>\n",
       "      <td>0.000000</td>\n",
       "      <td>...</td>\n",
       "      <td>1.000000</td>\n",
       "      <td>0.000000</td>\n",
       "      <td>1.000000</td>\n",
       "      <td>0.000000</td>\n",
       "      <td>0.000000</td>\n",
       "      <td>0.000000</td>\n",
       "      <td>0.000000</td>\n",
       "      <td>0.000000</td>\n",
       "      <td>0.000000</td>\n",
       "      <td>0.000000</td>\n",
       "    </tr>\n",
       "    <tr>\n",
       "      <th>max</th>\n",
       "      <td>8417.000000</td>\n",
       "      <td>265.320000</td>\n",
       "      <td>1.000000</td>\n",
       "      <td>0.0</td>\n",
       "      <td>1.000000</td>\n",
       "      <td>1.000000</td>\n",
       "      <td>1.000000</td>\n",
       "      <td>1.000000</td>\n",
       "      <td>1.000000</td>\n",
       "      <td>1.000000</td>\n",
       "      <td>...</td>\n",
       "      <td>1.000000</td>\n",
       "      <td>1.000000</td>\n",
       "      <td>1.000000</td>\n",
       "      <td>1.000000</td>\n",
       "      <td>1.000000</td>\n",
       "      <td>1.000000</td>\n",
       "      <td>1.000000</td>\n",
       "      <td>1.000000</td>\n",
       "      <td>1.000000</td>\n",
       "      <td>1.000000</td>\n",
       "    </tr>\n",
       "  </tbody>\n",
       "</table>\n",
       "<p>8 rows × 370 columns</p>\n",
       "</div>"
      ],
      "text/plain": [
       "                ID            y          X10     X11          X12  \\\n",
       "count  4209.000000  4209.000000  4209.000000  4209.0  4209.000000   \n",
       "mean   4205.960798   100.669318     0.013305     0.0     0.075077   \n",
       "std    2437.608688    12.679381     0.114590     0.0     0.263547   \n",
       "min       0.000000    72.110000     0.000000     0.0     0.000000   \n",
       "25%    2095.000000    90.820000     0.000000     0.0     0.000000   \n",
       "50%    4220.000000    99.150000     0.000000     0.0     0.000000   \n",
       "75%    6314.000000   109.010000     0.000000     0.0     0.000000   \n",
       "max    8417.000000   265.320000     1.000000     0.0     1.000000   \n",
       "\n",
       "               X13          X14          X15          X16          X17  ...  \\\n",
       "count  4209.000000  4209.000000  4209.000000  4209.000000  4209.000000  ...   \n",
       "mean      0.057971     0.428130     0.000475     0.002613     0.007603  ...   \n",
       "std       0.233716     0.494867     0.021796     0.051061     0.086872  ...   \n",
       "min       0.000000     0.000000     0.000000     0.000000     0.000000  ...   \n",
       "25%       0.000000     0.000000     0.000000     0.000000     0.000000  ...   \n",
       "50%       0.000000     0.000000     0.000000     0.000000     0.000000  ...   \n",
       "75%       0.000000     1.000000     0.000000     0.000000     0.000000  ...   \n",
       "max       1.000000     1.000000     1.000000     1.000000     1.000000  ...   \n",
       "\n",
       "              X375         X376         X377         X378         X379  \\\n",
       "count  4209.000000  4209.000000  4209.000000  4209.000000  4209.000000   \n",
       "mean      0.318841     0.057258     0.314802     0.020670     0.009503   \n",
       "std       0.466082     0.232363     0.464492     0.142294     0.097033   \n",
       "min       0.000000     0.000000     0.000000     0.000000     0.000000   \n",
       "25%       0.000000     0.000000     0.000000     0.000000     0.000000   \n",
       "50%       0.000000     0.000000     0.000000     0.000000     0.000000   \n",
       "75%       1.000000     0.000000     1.000000     0.000000     0.000000   \n",
       "max       1.000000     1.000000     1.000000     1.000000     1.000000   \n",
       "\n",
       "              X380         X382         X383         X384         X385  \n",
       "count  4209.000000  4209.000000  4209.000000  4209.000000  4209.000000  \n",
       "mean      0.008078     0.007603     0.001663     0.000475     0.001426  \n",
       "std       0.089524     0.086872     0.040752     0.021796     0.037734  \n",
       "min       0.000000     0.000000     0.000000     0.000000     0.000000  \n",
       "25%       0.000000     0.000000     0.000000     0.000000     0.000000  \n",
       "50%       0.000000     0.000000     0.000000     0.000000     0.000000  \n",
       "75%       0.000000     0.000000     0.000000     0.000000     0.000000  \n",
       "max       1.000000     1.000000     1.000000     1.000000     1.000000  \n",
       "\n",
       "[8 rows x 370 columns]"
      ]
     },
     "execution_count": 35,
     "metadata": {},
     "output_type": "execute_result"
    }
   ],
   "source": [
    "# Reading CSV files\n",
    "df=pd.read_csv(\"mercedesbenz.csv\")\n",
    "print(df)\n",
    "df.head(5)\n",
    "\n",
    "#info : how many object type, columns etc\n",
    "#describe : mean, count\n",
    "\n"
   ]
  },
  {
   "cell_type": "code",
   "execution_count": 36,
   "metadata": {},
   "outputs": [
    {
     "name": "stdout",
     "output_type": "stream",
     "text": [
      "                ID            y          X10     X11          X12  \\\n",
      "count  4209.000000  4209.000000  4209.000000  4209.0  4209.000000   \n",
      "mean   4205.960798   100.669318     0.013305     0.0     0.075077   \n",
      "std    2437.608688    12.679381     0.114590     0.0     0.263547   \n",
      "min       0.000000    72.110000     0.000000     0.0     0.000000   \n",
      "25%    2095.000000    90.820000     0.000000     0.0     0.000000   \n",
      "50%    4220.000000    99.150000     0.000000     0.0     0.000000   \n",
      "75%    6314.000000   109.010000     0.000000     0.0     0.000000   \n",
      "max    8417.000000   265.320000     1.000000     0.0     1.000000   \n",
      "\n",
      "               X13          X14          X15          X16          X17  ...  \\\n",
      "count  4209.000000  4209.000000  4209.000000  4209.000000  4209.000000  ...   \n",
      "mean      0.057971     0.428130     0.000475     0.002613     0.007603  ...   \n",
      "std       0.233716     0.494867     0.021796     0.051061     0.086872  ...   \n",
      "min       0.000000     0.000000     0.000000     0.000000     0.000000  ...   \n",
      "25%       0.000000     0.000000     0.000000     0.000000     0.000000  ...   \n",
      "50%       0.000000     0.000000     0.000000     0.000000     0.000000  ...   \n",
      "75%       0.000000     1.000000     0.000000     0.000000     0.000000  ...   \n",
      "max       1.000000     1.000000     1.000000     1.000000     1.000000  ...   \n",
      "\n",
      "              X375         X376         X377         X378         X379  \\\n",
      "count  4209.000000  4209.000000  4209.000000  4209.000000  4209.000000   \n",
      "mean      0.318841     0.057258     0.314802     0.020670     0.009503   \n",
      "std       0.466082     0.232363     0.464492     0.142294     0.097033   \n",
      "min       0.000000     0.000000     0.000000     0.000000     0.000000   \n",
      "25%       0.000000     0.000000     0.000000     0.000000     0.000000   \n",
      "50%       0.000000     0.000000     0.000000     0.000000     0.000000   \n",
      "75%       1.000000     0.000000     1.000000     0.000000     0.000000   \n",
      "max       1.000000     1.000000     1.000000     1.000000     1.000000   \n",
      "\n",
      "              X380         X382         X383         X384         X385  \n",
      "count  4209.000000  4209.000000  4209.000000  4209.000000  4209.000000  \n",
      "mean      0.008078     0.007603     0.001663     0.000475     0.001426  \n",
      "std       0.089524     0.086872     0.040752     0.021796     0.037734  \n",
      "min       0.000000     0.000000     0.000000     0.000000     0.000000  \n",
      "25%       0.000000     0.000000     0.000000     0.000000     0.000000  \n",
      "50%       0.000000     0.000000     0.000000     0.000000     0.000000  \n",
      "75%       0.000000     0.000000     0.000000     0.000000     0.000000  \n",
      "max       1.000000     1.000000     1.000000     1.000000     1.000000  \n",
      "\n",
      "[8 rows x 370 columns]\n"
     ]
    }
   ],
   "source": [
    "print(df.describe())"
   ]
  },
  {
   "cell_type": "code",
   "execution_count": 37,
   "metadata": {},
   "outputs": [
    {
     "name": "stdout",
     "output_type": "stream",
     "text": [
      "<class 'pandas.core.frame.DataFrame'>\n",
      "RangeIndex: 4209 entries, 0 to 4208\n",
      "Columns: 378 entries, ID to X385\n",
      "dtypes: float64(1), int64(369), object(8)\n",
      "memory usage: 12.1+ MB\n",
      "None\n"
     ]
    }
   ],
   "source": [
    "print(df.info())"
   ]
  },
  {
   "cell_type": "code",
   "execution_count": 52,
   "metadata": {},
   "outputs": [
    {
     "name": "stdout",
     "output_type": "stream",
     "text": [
      "          *C1  *C2*C3*C4\n",
      "0  R1*1*2*3*4        NaN\n",
      "1  R2*1*2*3*4        NaN\n",
      "2  R3*1*2*3*4        NaN\n",
      "3  R4*1*2*3*4        NaN\n",
      "4  R5*1*2*3*4        NaN\n",
      "\n",
      "          *C1  *C2*C3*C4\n",
      "0  R1*1*2*3*4        NaN\n",
      "1  R2*1*2*3*4        NaN\n",
      "2  R3*1*2*3*4        NaN\n",
      "3  R4*1*2*3*4        NaN\n",
      "4  R5*1*2*3*4        NaN\n"
     ]
    }
   ],
   "source": [
    "df1=pd.read_csv(\"data1.csv\")\n",
    "print(df1.head())\n",
    "print()\n",
    "df=pd.read_csv(\"data1.csv\", sep=\"*\")\n",
    "print(df1.head())"
   ]
  },
  {
   "cell_type": "code",
   "execution_count": 60,
   "metadata": {},
   "outputs": [
    {
     "name": "stdout",
     "output_type": "stream",
     "text": [
      "X0\n",
      "ab      1\n",
      "ac      1\n",
      "g       1\n",
      "aa      2\n",
      "q       2\n",
      "c       3\n",
      "ao      4\n",
      "bc      6\n",
      "r      10\n",
      "as     10\n",
      "au     11\n",
      "b      11\n",
      "k      11\n",
      "ad     14\n",
      "aw     16\n",
      "l      16\n",
      "u      17\n",
      "i      18\n",
      "am     18\n",
      "aq     18\n",
      "ax     19\n",
      "a      21\n",
      "at     25\n",
      "ba     27\n",
      "e      32\n",
      "ai     34\n",
      "m      34\n",
      "af     35\n",
      "v      36\n",
      "al     67\n",
      "d      73\n",
      "h      75\n",
      "ap    103\n",
      "s     106\n",
      "aj    151\n",
      "az    175\n",
      "j     181\n",
      "w     182\n",
      "n     195\n",
      "f     227\n",
      "o     269\n",
      "x     300\n",
      "t     306\n",
      "ay    313\n",
      "y     324\n",
      "ak    349\n",
      "z     360\n",
      "Name: count, dtype: int64\n"
     ]
    }
   ],
   "source": [
    "df=pd.read_csv(\"mercedesbenz.csv\")\n",
    "\n",
    "print(df['X0'].value_counts(ascending=True))\n"
   ]
  },
  {
   "cell_type": "code",
   "execution_count": 65,
   "metadata": {},
   "outputs": [
    {
     "name": "stdout",
     "output_type": "stream",
     "text": [
      "        ID       y  X0  X1  X2 X3 X4  X5 X6 X8  ...  X375  X376  X377  X378  \\\n",
      "41     102   91.98   o   h  ae  f  d   j  j  b  ...     0     0     0     0   \n",
      "42     106   98.08   z  aa  ai  c  d   j  g  j  ...     1     0     0     0   \n",
      "43     107  139.20   w   s  as  c  d   j  i  q  ...     1     0     0     0   \n",
      "44     108   85.44   s   z  ai  c  d   j  j  b  ...     1     0     0     0   \n",
      "45     109  110.52   x   b   m  c  d   j  j  n  ...     0     0     1     0   \n",
      "...    ...     ...  ..  ..  .. .. ..  .. .. ..  ...   ...   ...   ...   ...   \n",
      "4204  8405  107.39  ak   s  as  c  d  aa  d  q  ...     1     0     0     0   \n",
      "4205  8406  108.77   j   o   t  d  d  aa  h  h  ...     0     1     0     0   \n",
      "4206  8412  109.22  ak   v   r  a  d  aa  g  e  ...     0     0     1     0   \n",
      "4207  8415   87.48  al   r   e  f  d  aa  l  u  ...     0     0     0     0   \n",
      "4208  8417  110.85   z   r  ae  c  d  aa  g  w  ...     1     0     0     0   \n",
      "\n",
      "      X379  X380  X382  X383  X384  X385  \n",
      "41       0     0     0     0     0     0  \n",
      "42       0     0     0     0     0     0  \n",
      "43       0     0     0     0     0     0  \n",
      "44       0     0     0     0     0     0  \n",
      "45       0     0     0     0     0     0  \n",
      "...    ...   ...   ...   ...   ...   ...  \n",
      "4204     0     0     0     0     0     0  \n",
      "4205     0     0     0     0     0     0  \n",
      "4206     0     0     0     0     0     0  \n",
      "4207     0     0     0     0     0     0  \n",
      "4208     0     0     0     0     0     0  \n",
      "\n",
      "[4168 rows x 378 columns]\n"
     ]
    }
   ],
   "source": [
    "print(df[df['ID']>100])"
   ]
  },
  {
   "cell_type": "code",
   "execution_count": 76,
   "metadata": {},
   "outputs": [],
   "source": [
    "#CSV\n",
    "\n",
    "from io import StringIO, BytesIO\n",
    "\n",
    "data=('col1,col2,col3,col4,col5\\n'\n",
    "      'x,y,z,a,10\\n'\n",
    "      'a,b,c,x,20\\n'\n",
    "      'm,n,o,,30')"
   ]
  },
  {
   "cell_type": "code",
   "execution_count": 67,
   "metadata": {},
   "outputs": [
    {
     "data": {
      "text/plain": [
       "str"
      ]
     },
     "execution_count": 67,
     "metadata": {},
     "output_type": "execute_result"
    }
   ],
   "source": [
    "type(data)"
   ]
  },
  {
   "cell_type": "code",
   "execution_count": 77,
   "metadata": {},
   "outputs": [
    {
     "name": "stdout",
     "output_type": "stream",
     "text": [
      "  col1 col2 col3 col4  col5\n",
      "0    x    y    z    a    10\n",
      "1    a    b    c    x    20\n",
      "2    m    n    o  NaN    30\n"
     ]
    }
   ],
   "source": [
    "print(pd.read_csv(StringIO(data)))"
   ]
  },
  {
   "cell_type": "code",
   "execution_count": 85,
   "metadata": {},
   "outputs": [
    {
     "name": "stdout",
     "output_type": "stream",
     "text": [
      "  col1 col2 col3 col4  col5\n",
      "0    x    y    z    a    10\n",
      "1    a    b    c    x    20\n",
      "2    m    n    o  NaN    30\n",
      "\n",
      "  col1 col3\n",
      "0    x    z\n",
      "1    a    c\n",
      "2    m    o\n",
      "\n",
      "  col1 col3\n",
      "0    x    z\n",
      "1    a    c\n",
      "2    m    o\n",
      "  col1 col3\n",
      "0    x    z\n",
      "1    a    c\n",
      "2    m    o\n",
      "     col3\n",
      "col1     \n",
      "x       z\n",
      "a       c\n",
      "m       o\n"
     ]
    }
   ],
   "source": [
    "df=pd.read_csv(StringIO(data))\n",
    "print(df)\n",
    "print()\n",
    "df=pd.read_csv(StringIO(data),usecols=[\"col1\",\"col3\"])\n",
    "print(df)\n",
    "print()\n",
    "df=pd.read_csv(StringIO(data),usecols=[\"col1\",\"col3\"],dtype=object)\n",
    "print(df)\n",
    "df=pd.read_csv(StringIO(data),usecols=[\"col1\",\"col3\"],dtype={\"col1\":str, \"col3\":str})\n",
    "print(df)\n",
    "df=pd.read_csv(StringIO(data),usecols=[\"col1\",\"col3\"], index_col=0)\n",
    "print(df)\n"
   ]
  },
  {
   "cell_type": "code",
   "execution_count": 88,
   "metadata": {},
   "outputs": [
    {
     "data": {
      "text/plain": [
       "col3    object\n",
       "dtype: object"
      ]
     },
     "execution_count": 88,
     "metadata": {},
     "output_type": "execute_result"
    }
   ],
   "source": [
    "df.dtypes"
   ]
  },
  {
   "cell_type": "code",
   "execution_count": 99,
   "metadata": {},
   "outputs": [
    {
     "name": "stdout",
     "output_type": "stream",
     "text": [
      "          a      b   c\n",
      "Apple   Bat    Cat NaN\n",
      "100    5000  25000 NaN\n"
     ]
    },
    {
     "data": {
      "text/html": [
       "<div>\n",
       "<style scoped>\n",
       "    .dataframe tbody tr th:only-of-type {\n",
       "        vertical-align: middle;\n",
       "    }\n",
       "\n",
       "    .dataframe tbody tr th {\n",
       "        vertical-align: top;\n",
       "    }\n",
       "\n",
       "    .dataframe thead th {\n",
       "        text-align: right;\n",
       "    }\n",
       "</style>\n",
       "<table border=\"1\" class=\"dataframe\">\n",
       "  <thead>\n",
       "    <tr style=\"text-align: right;\">\n",
       "      <th></th>\n",
       "      <th>a</th>\n",
       "      <th>b</th>\n",
       "      <th>c</th>\n",
       "    </tr>\n",
       "  </thead>\n",
       "  <tbody>\n",
       "    <tr>\n",
       "      <th>Apple</th>\n",
       "      <td>Bat</td>\n",
       "      <td>Cat</td>\n",
       "      <td>NaN</td>\n",
       "    </tr>\n",
       "    <tr>\n",
       "      <th>100</th>\n",
       "      <td>5000</td>\n",
       "      <td>25000</td>\n",
       "      <td>NaN</td>\n",
       "    </tr>\n",
       "  </tbody>\n",
       "</table>\n",
       "</div>"
      ],
      "text/plain": [
       "          a      b   c\n",
       "Apple   Bat    Cat NaN\n",
       "100    5000  25000 NaN"
      ]
     },
     "execution_count": 99,
     "metadata": {},
     "output_type": "execute_result"
    }
   ],
   "source": [
    "import pandas as pd\n",
    "import numpy as np\n",
    "\n",
    "dt=('a,b,c\\n'\n",
    "    'Apple,Bat,Cat,\\n'\n",
    "    '100,5000,25000,')\n",
    "\n",
    "print(pd.read_csv(StringIO(dt)))\n",
    "\n",
    "pd.read_csv(StringIO(dt))"
   ]
  },
  {
   "cell_type": "code",
   "execution_count": 97,
   "metadata": {},
   "outputs": [
    {
     "data": {
      "text/html": [
       "<div>\n",
       "<style scoped>\n",
       "    .dataframe tbody tr th:only-of-type {\n",
       "        vertical-align: middle;\n",
       "    }\n",
       "\n",
       "    .dataframe tbody tr th {\n",
       "        vertical-align: top;\n",
       "    }\n",
       "\n",
       "    .dataframe thead th {\n",
       "        text-align: right;\n",
       "    }\n",
       "</style>\n",
       "<table border=\"1\" class=\"dataframe\">\n",
       "  <thead>\n",
       "    <tr style=\"text-align: right;\">\n",
       "      <th></th>\n",
       "      <th>a</th>\n",
       "      <th>b</th>\n",
       "      <th>c</th>\n",
       "    </tr>\n",
       "  </thead>\n",
       "  <tbody>\n",
       "    <tr>\n",
       "      <th>0</th>\n",
       "      <td>Apple</td>\n",
       "      <td>Bat</td>\n",
       "      <td>Cat</td>\n",
       "    </tr>\n",
       "    <tr>\n",
       "      <th>1</th>\n",
       "      <td>100</td>\n",
       "      <td>5000</td>\n",
       "      <td>25000</td>\n",
       "    </tr>\n",
       "  </tbody>\n",
       "</table>\n",
       "</div>"
      ],
      "text/plain": [
       "       a     b      c\n",
       "0  Apple   Bat    Cat\n",
       "1    100  5000  25000"
      ]
     },
     "execution_count": 97,
     "metadata": {},
     "output_type": "execute_result"
    }
   ],
   "source": [
    "pd.read_csv(StringIO(dt),index_col=False)"
   ]
  },
  {
   "cell_type": "code",
   "execution_count": 103,
   "metadata": {},
   "outputs": [
    {
     "data": {
      "text/html": [
       "<div>\n",
       "<style scoped>\n",
       "    .dataframe tbody tr th:only-of-type {\n",
       "        vertical-align: middle;\n",
       "    }\n",
       "\n",
       "    .dataframe tbody tr th {\n",
       "        vertical-align: top;\n",
       "    }\n",
       "\n",
       "    .dataframe thead th {\n",
       "        text-align: right;\n",
       "    }\n",
       "</style>\n",
       "<table border=\"1\" class=\"dataframe\">\n",
       "  <thead>\n",
       "    <tr style=\"text-align: right;\">\n",
       "      <th></th>\n",
       "      <th>b</th>\n",
       "      <th>c</th>\n",
       "    </tr>\n",
       "  </thead>\n",
       "  <tbody>\n",
       "    <tr>\n",
       "      <th>0</th>\n",
       "      <td>Bat</td>\n",
       "      <td>Cat</td>\n",
       "    </tr>\n",
       "    <tr>\n",
       "      <th>1</th>\n",
       "      <td>5000</td>\n",
       "      <td>25000</td>\n",
       "    </tr>\n",
       "  </tbody>\n",
       "</table>\n",
       "</div>"
      ],
      "text/plain": [
       "      b      c\n",
       "0   Bat    Cat\n",
       "1  5000  25000"
      ]
     },
     "execution_count": 103,
     "metadata": {},
     "output_type": "execute_result"
    }
   ],
   "source": [
    "pd.read_csv(StringIO(dt),usecols=['b','c'],index_col=False)"
   ]
  },
  {
   "cell_type": "code",
   "execution_count": 104,
   "metadata": {},
   "outputs": [
    {
     "data": {
      "text/html": [
       "<div>\n",
       "<style scoped>\n",
       "    .dataframe tbody tr th:only-of-type {\n",
       "        vertical-align: middle;\n",
       "    }\n",
       "\n",
       "    .dataframe tbody tr th {\n",
       "        vertical-align: top;\n",
       "    }\n",
       "\n",
       "    .dataframe thead th {\n",
       "        text-align: right;\n",
       "    }\n",
       "</style>\n",
       "<table border=\"1\" class=\"dataframe\">\n",
       "  <thead>\n",
       "    <tr style=\"text-align: right;\">\n",
       "      <th></th>\n",
       "      <th>Unnamed: 0</th>\n",
       "      <th>a</th>\n",
       "      <th>b</th>\n",
       "    </tr>\n",
       "  </thead>\n",
       "  <tbody>\n",
       "    <tr>\n",
       "      <th>0</th>\n",
       "      <td>1</td>\n",
       "      <td>Hello World \"India\"</td>\n",
       "      <td>Bangalore</td>\n",
       "    </tr>\n",
       "  </tbody>\n",
       "</table>\n",
       "</div>"
      ],
      "text/plain": [
       "   Unnamed: 0                    a          b\n",
       "0           1  Hello World \"India\"  Bangalore"
      ]
     },
     "execution_count": 104,
     "metadata": {},
     "output_type": "execute_result"
    }
   ],
   "source": [
    "data=(',a,b\\n'\n",
    "      '1,Hello World \"India\",Bangalore')\n",
    "\n",
    "pd.read_csv(StringIO(data))"
   ]
  },
  {
   "cell_type": "code",
   "execution_count": 142,
   "metadata": {},
   "outputs": [
    {
     "name": "stderr",
     "output_type": "stream",
     "text": [
      "C:\\Users\\Admin\\AppData\\Local\\Temp\\ipykernel_13788\\480416231.py:9: FutureWarning: Passing literal json to 'read_json' is deprecated and will be removed in a future version. To read from a literal string, wrap it in a 'StringIO' object.\n",
      "  pd.read_json(newData)\n"
     ]
    },
    {
     "data": {
      "text/html": [
       "<div>\n",
       "<style scoped>\n",
       "    .dataframe tbody tr th:only-of-type {\n",
       "        vertical-align: middle;\n",
       "    }\n",
       "\n",
       "    .dataframe tbody tr th {\n",
       "        vertical-align: top;\n",
       "    }\n",
       "\n",
       "    .dataframe thead th {\n",
       "        text-align: right;\n",
       "    }\n",
       "</style>\n",
       "<table border=\"1\" class=\"dataframe\">\n",
       "  <thead>\n",
       "    <tr style=\"text-align: right;\">\n",
       "      <th></th>\n",
       "      <th>votes</th>\n",
       "      <th>user_id</th>\n",
       "      <th>review_id</th>\n",
       "      <th>stars</th>\n",
       "      <th>date</th>\n",
       "      <th>text</th>\n",
       "      <th>type</th>\n",
       "      <th>business_id</th>\n",
       "    </tr>\n",
       "  </thead>\n",
       "  <tbody>\n",
       "    <tr>\n",
       "      <th>cool</th>\n",
       "      <td>C</td>\n",
       "      <td>P_Mk0ygOilLJo4_WEvabAA</td>\n",
       "      <td>OeT5kgUOe3vcN7H6ImVmZQ</td>\n",
       "      <td>3</td>\n",
       "      <td>2005-08-26</td>\n",
       "      <td>This is a pretty typical cafe.  The sandwiches...</td>\n",
       "      <td>review</td>\n",
       "      <td>Jp9svt7sRT4zwdbzQ8KQmw</td>\n",
       "    </tr>\n",
       "    <tr>\n",
       "      <th>funny</th>\n",
       "      <td>F</td>\n",
       "      <td>P_Mk0ygOilLJo4_WEvabAA</td>\n",
       "      <td>OeT5kgUOe3vcN7H6ImVmZQ</td>\n",
       "      <td>3</td>\n",
       "      <td>2005-08-26</td>\n",
       "      <td>This is a pretty typical cafe.  The sandwiches...</td>\n",
       "      <td>review</td>\n",
       "      <td>Jp9svt7sRT4zwdbzQ8KQmw</td>\n",
       "    </tr>\n",
       "    <tr>\n",
       "      <th>useful</th>\n",
       "      <td>U</td>\n",
       "      <td>P_Mk0ygOilLJo4_WEvabAA</td>\n",
       "      <td>OeT5kgUOe3vcN7H6ImVmZQ</td>\n",
       "      <td>3</td>\n",
       "      <td>2005-08-26</td>\n",
       "      <td>This is a pretty typical cafe.  The sandwiches...</td>\n",
       "      <td>review</td>\n",
       "      <td>Jp9svt7sRT4zwdbzQ8KQmw</td>\n",
       "    </tr>\n",
       "  </tbody>\n",
       "</table>\n",
       "</div>"
      ],
      "text/plain": [
       "       votes                 user_id               review_id  stars  \\\n",
       "cool       C  P_Mk0ygOilLJo4_WEvabAA  OeT5kgUOe3vcN7H6ImVmZQ      3   \n",
       "funny      F  P_Mk0ygOilLJo4_WEvabAA  OeT5kgUOe3vcN7H6ImVmZQ      3   \n",
       "useful     U  P_Mk0ygOilLJo4_WEvabAA  OeT5kgUOe3vcN7H6ImVmZQ      3   \n",
       "\n",
       "             date                                               text    type  \\\n",
       "cool   2005-08-26  This is a pretty typical cafe.  The sandwiches...  review   \n",
       "funny  2005-08-26  This is a pretty typical cafe.  The sandwiches...  review   \n",
       "useful 2005-08-26  This is a pretty typical cafe.  The sandwiches...  review   \n",
       "\n",
       "                   business_id  \n",
       "cool    Jp9svt7sRT4zwdbzQ8KQmw  \n",
       "funny   Jp9svt7sRT4zwdbzQ8KQmw  \n",
       "useful  Jp9svt7sRT4zwdbzQ8KQmw  "
      ]
     },
     "execution_count": 142,
     "metadata": {},
     "output_type": "execute_result"
    }
   ],
   "source": [
    "#Data='{\"Employee_Name\": \"MSG\", \"email\":\"msg@gmail.com\", \"job_title\":[{\"title1\":\"Team Lead\", \"title2\":\"Automation\"}]}'\n",
    "#Data =('{\"Name\": [\"MSG\"],\"Email\": [\"MSG@MSG\"], \"job_title\": [{\"title1\": [\"One\"],\"title2\": [\"One\"]}]}\\n'\n",
    "#       '{\"Name\": [\"MSG\"],\"Email\": [\"MSG@MSG\"], \"job_title\": [{\"title1\": [\"One\"],\"title2\": [\"One\"]}]}')\n",
    "\n",
    "#pd.read_json(Data)\n",
    "\n",
    "newData=('{\"votes\": {\"funny\": \"F\", \"useful\": \"U\", \"cool\": \"C\"}, \"user_id\": \"P_Mk0ygOilLJo4_WEvabAA\", \"review_id\": \"OeT5kgUOe3vcN7H6ImVmZQ\", \"stars\": 3, \"date\": \"2005-08-26\", \"text\": \"This is a pretty typical cafe.  The sandwiches and wraps are good but a little overpriced and the food items are the same.  The chicken caesar salad wrap is my favorite here but everything else is pretty much par for the course.\", \"type\": \"review\", \"business_id\": \"Jp9svt7sRT4zwdbzQ8KQmw\"}')\n",
    "\n",
    "pd.read_json(newData)"
   ]
  },
  {
   "cell_type": "code",
   "execution_count": 152,
   "metadata": {},
   "outputs": [
    {
     "name": "stdout",
     "output_type": "stream",
     "text": [
      "{\"votes\": {\"funny\": \"F\", \"useful\": \"U\", \"cool\": \"C\"}, \"user_id\": \"P_Mk0ygOilLJo4_WEvabAA\", \"review_id\": \"OeT5kgUOe3vcN7H6ImVmZQ\", \"stars\": 3, \"date\": \"2005-08-26\", \"text\": \"This is a pretty typical cafe.  The sandwiches and wraps are good but a little overpriced and the food items are the same.  The chicken caesar salad wrap is my favorite here but everything else is pretty much par for the course.\", \"type\": \"review\", \"business_id\": \"Jp9svt7sRT4zwdbzQ8KQmw\"}\n"
     ]
    },
    {
     "name": "stderr",
     "output_type": "stream",
     "text": [
      "C:\\Users\\Admin\\AppData\\Local\\Temp\\ipykernel_13788\\3737372918.py:3: FutureWarning: Passing literal json to 'read_json' is deprecated and will be removed in a future version. To read from a literal string, wrap it in a 'StringIO' object.\n",
      "  data5=pd.read_json(newData)\n"
     ]
    }
   ],
   "source": [
    "# JSON to CSV format\n",
    "\n",
    "newData=('{\"votes\": {\"funny\": \"F\", \"useful\": \"U\", \"cool\": \"C\"}, \"user_id\": \"P_Mk0ygOilLJo4_WEvabAA\", \"review_id\": \"OeT5kgUOe3vcN7H6ImVmZQ\", \"stars\": 3, \"date\": \"2005-08-26\", \"text\": \"This is a pretty typical cafe.  The sandwiches and wraps are good but a little overpriced and the food items are the same.  The chicken caesar salad wrap is my favorite here but everything else is pretty much par for the course.\", \"type\": \"review\", \"business_id\": \"Jp9svt7sRT4zwdbzQ8KQmw\"}')\n",
    "print(newData)\n",
    "print()\n",
    "data5=pd.read_json(newData)\n",
    "df=pd.DataFrame(data5)\n",
    "df.to_csv(\"jsonText.csv\")"
   ]
  },
  {
   "cell_type": "code",
   "execution_count": 167,
   "metadata": {},
   "outputs": [
    {
     "data": {
      "text/plain": [
       "[       #        Country  Population (2023) World  Share  Land Area  (Km²)\n",
       " 0      1          India         1428627663      17.76 %           2973190\n",
       " 1      2          China         1425671352      17.72 %           9388211\n",
       " 2      3  United States          339996563       4.23 %           9147420\n",
       " 3      4      Indonesia          277534122       3.45 %           1811570\n",
       " 4      5       Pakistan          240485658       2.99 %            770880\n",
       " ..   ...            ...                ...          ...               ...\n",
       " 190  191     San Marino              33642          0 %                60\n",
       " 191  192          Palau              18058          0 %               460\n",
       " 192  193          Nauru              12780          0 %                20\n",
       " 193  194         Tuvalu              11396          0 %                30\n",
       " 194  195       Holy See                518          0 %                 0\n",
       " \n",
       " [195 rows x 5 columns]]"
      ]
     },
     "execution_count": 167,
     "metadata": {},
     "output_type": "execute_result"
    }
   ],
   "source": [
    "# Reading HTML Content\n",
    "\n",
    "W3Schools='https://www.worldometers.info/geography/how-many-countries-are-there-in-the-world/'\n",
    "dfs=pd.read_html(W3Schools)\n",
    "\n",
    "\n",
    "dfs2=pd.read_html(W3Schools, match=\"Country\", header=0)\n",
    "dfs2\n"
   ]
  },
  {
   "cell_type": "code",
   "execution_count": 183,
   "metadata": {},
   "outputs": [
    {
     "data": {
      "text/html": [
       "<div>\n",
       "<style scoped>\n",
       "    .dataframe tbody tr th:only-of-type {\n",
       "        vertical-align: middle;\n",
       "    }\n",
       "\n",
       "    .dataframe tbody tr th {\n",
       "        vertical-align: top;\n",
       "    }\n",
       "\n",
       "    .dataframe thead th {\n",
       "        text-align: right;\n",
       "    }\n",
       "</style>\n",
       "<table border=\"1\" class=\"dataframe\">\n",
       "  <thead>\n",
       "    <tr style=\"text-align: right;\">\n",
       "      <th></th>\n",
       "      <th>User Name</th>\n",
       "      <th>Country</th>\n",
       "      <th>City</th>\n",
       "      <th>Gender</th>\n",
       "      <th>Age</th>\n",
       "    </tr>\n",
       "  </thead>\n",
       "  <tbody>\n",
       "    <tr>\n",
       "      <th>0</th>\n",
       "      <td>Forrest Gump</td>\n",
       "      <td>USA</td>\n",
       "      <td>New York</td>\n",
       "      <td>M</td>\n",
       "      <td>50</td>\n",
       "    </tr>\n",
       "    <tr>\n",
       "      <th>1</th>\n",
       "      <td>Mary Jane</td>\n",
       "      <td>CANADA</td>\n",
       "      <td>Tornoto</td>\n",
       "      <td>F</td>\n",
       "      <td>30</td>\n",
       "    </tr>\n",
       "    <tr>\n",
       "      <th>2</th>\n",
       "      <td>Harry Porter</td>\n",
       "      <td>UK</td>\n",
       "      <td>London</td>\n",
       "      <td>M</td>\n",
       "      <td>20</td>\n",
       "    </tr>\n",
       "    <tr>\n",
       "      <th>3</th>\n",
       "      <td>Jean Grey</td>\n",
       "      <td>CHINA</td>\n",
       "      <td>Shanghai</td>\n",
       "      <td>F</td>\n",
       "      <td>30</td>\n",
       "    </tr>\n",
       "  </tbody>\n",
       "</table>\n",
       "</div>"
      ],
      "text/plain": [
       "      User Name Country      City Gender   Age\n",
       "0  Forrest Gump    USA   New York       M   50\n",
       "1     Mary Jane  CANADA   Tornoto       F   30\n",
       "2  Harry Porter      UK    London       M   20\n",
       "3     Jean Grey   CHINA  Shanghai       F   30"
      ]
     },
     "execution_count": 183,
     "metadata": {},
     "output_type": "execute_result"
    }
   ],
   "source": [
    "# Excel\n",
    "\n",
    "# Reading HTML Content\n",
    "\n",
    "df_excel=pd.read_excel('Data_Panda2.xlsx')\n",
    "\n",
    "df_excel.head()"
   ]
  },
  {
   "cell_type": "code",
   "execution_count": 185,
   "metadata": {},
   "outputs": [
    {
     "data": {
      "text/html": [
       "<div>\n",
       "<style scoped>\n",
       "    .dataframe tbody tr th:only-of-type {\n",
       "        vertical-align: middle;\n",
       "    }\n",
       "\n",
       "    .dataframe tbody tr th {\n",
       "        vertical-align: top;\n",
       "    }\n",
       "\n",
       "    .dataframe thead th {\n",
       "        text-align: right;\n",
       "    }\n",
       "</style>\n",
       "<table border=\"1\" class=\"dataframe\">\n",
       "  <thead>\n",
       "    <tr style=\"text-align: right;\">\n",
       "      <th></th>\n",
       "      <th>User Name</th>\n",
       "      <th>Country</th>\n",
       "      <th>City</th>\n",
       "      <th>Gender</th>\n",
       "      <th>Age</th>\n",
       "    </tr>\n",
       "  </thead>\n",
       "  <tbody>\n",
       "    <tr>\n",
       "      <th>0</th>\n",
       "      <td>Forrest Gump</td>\n",
       "      <td>USA</td>\n",
       "      <td>New York</td>\n",
       "      <td>M</td>\n",
       "      <td>50</td>\n",
       "    </tr>\n",
       "    <tr>\n",
       "      <th>1</th>\n",
       "      <td>Mary Jane</td>\n",
       "      <td>CANADA</td>\n",
       "      <td>Tornoto</td>\n",
       "      <td>F</td>\n",
       "      <td>30</td>\n",
       "    </tr>\n",
       "    <tr>\n",
       "      <th>2</th>\n",
       "      <td>Harry Porter</td>\n",
       "      <td>UK</td>\n",
       "      <td>London</td>\n",
       "      <td>M</td>\n",
       "      <td>20</td>\n",
       "    </tr>\n",
       "    <tr>\n",
       "      <th>3</th>\n",
       "      <td>Jean Grey</td>\n",
       "      <td>CHINA</td>\n",
       "      <td>Shanghai</td>\n",
       "      <td>F</td>\n",
       "      <td>30</td>\n",
       "    </tr>\n",
       "  </tbody>\n",
       "</table>\n",
       "</div>"
      ],
      "text/plain": [
       "      User Name Country      City Gender   Age\n",
       "0  Forrest Gump    USA   New York       M   50\n",
       "1     Mary Jane  CANADA   Tornoto       F   30\n",
       "2  Harry Porter      UK    London       M   20\n",
       "3     Jean Grey   CHINA  Shanghai       F   30"
      ]
     },
     "execution_count": 185,
     "metadata": {},
     "output_type": "execute_result"
    }
   ],
   "source": [
    "df_excel.to_pickle('df_excel')\n",
    "\n",
    "df=pd.read_pickle('df_excel')\n",
    "df"
   ]
  },
  {
   "cell_type": "code",
   "execution_count": null,
   "metadata": {},
   "outputs": [],
   "source": []
  }
 ],
 "metadata": {
  "kernelspec": {
   "display_name": "base",
   "language": "python",
   "name": "python3"
  },
  "language_info": {
   "codemirror_mode": {
    "name": "ipython",
    "version": 3
   },
   "file_extension": ".py",
   "mimetype": "text/x-python",
   "name": "python",
   "nbconvert_exporter": "python",
   "pygments_lexer": "ipython3",
   "version": "3.11.7"
  }
 },
 "nbformat": 4,
 "nbformat_minor": 2
}
