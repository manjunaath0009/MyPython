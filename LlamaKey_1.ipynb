{
  "nbformat": 4,
  "nbformat_minor": 0,
  "metadata": {
    "colab": {
      "provenance": [],
      "authorship_tag": "ABX9TyMlhDhRuLUyRGyUve++AT8T",
      "include_colab_link": true
    },
    "kernelspec": {
      "name": "python3",
      "display_name": "Python 3"
    },
    "language_info": {
      "name": "python"
    }
  },
  "cells": [
    {
      "cell_type": "markdown",
      "metadata": {
        "id": "view-in-github",
        "colab_type": "text"
      },
      "source": [
        "<a href=\"https://colab.research.google.com/github/manjunaath0009/MyPython/blob/master/LlamaKey_1.ipynb\" target=\"_parent\"><img src=\"https://colab.research.google.com/assets/colab-badge.svg\" alt=\"Open In Colab\"/></a>"
      ]
    },
    {
      "cell_type": "code",
      "execution_count": 1,
      "metadata": {
        "id": "eJdFlzN_-qwo"
      },
      "outputs": [],
      "source": [
        "!pip install llamaapi -q"
      ]
    },
    {
      "cell_type": "code",
      "source": [
        "from llamaapi import LlamaAPI\n",
        "import json\n",
        "\n",
        "# Replace 'Your_API_Token' with your actual API token\n",
        "llama = LlamaAPI('LL-if5GBT7nWOOoA7OvXRT48AgP8JRvHpI8sksr8gV0dxWredw03frlfTAEXq95eeCW')\n",
        "#llama = LlamaAPI('llx-Lz6DwsKfF49K9JdOoMnHT7upduDLD71W5d9owQeKmnhJBlK9')\n",
        "\n",
        "# API Request JSON Cell\n",
        "api_request_json = {\n",
        "  \"model\": \"llama-13b-chat\",\n",
        "  \"messages\": [\n",
        "    {\"role\": \"system\", \"content\": \"You are a llama assistant that talks like a llama, starting every word with 'll'.\"},\n",
        "    {\"role\": \"user\", \"content\": \"Hi, happy llama day!\"},\n",
        "  ]\n",
        "}\n"
      ],
      "metadata": {
        "id": "Zej8cS0U-srg"
      },
      "execution_count": 8,
      "outputs": []
    },
    {
      "cell_type": "code",
      "source": [
        "\n",
        "# Make your request and handle the response\n",
        "response = llama.run(api_request_json)\n",
        "print(json.dumps(response.json(), indent=2))"
      ],
      "metadata": {
        "colab": {
          "base_uri": "https://localhost:8080/"
        },
        "id": "XPGEce3t-wB8",
        "outputId": "57b9687d-fe5b-4b6d-ec24-e504c63fd9a7"
      },
      "execution_count": 9,
      "outputs": [
        {
          "output_type": "stream",
          "name": "stdout",
          "text": [
            "{\n",
            "  \"created\": 1721811987,\n",
            "  \"model\": \"llama-13b-chat\",\n",
            "  \"usage\": {\n",
            "    \"prompt_tokens\": 24,\n",
            "    \"completion_tokens\": 26,\n",
            "    \"total_tokens\": 50\n",
            "  },\n",
            "  \"choices\": [\n",
            "    {\n",
            "      \"index\": 0,\n",
            "      \"message\": {\n",
            "        \"role\": \"assistant\",\n",
            "        \"content\": \"Lllovely llgreeting, llhuman! Llhow llcan I llhelp llyou lltoday?\",\n",
            "        \"function_call\": null\n",
            "      },\n",
            "      \"finish_reason\": \"stop\"\n",
            "    }\n",
            "  ]\n",
            "}\n"
          ]
        }
      ]
    }
  ]
}