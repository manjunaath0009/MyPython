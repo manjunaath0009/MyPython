{
 "cells": [
  {
   "cell_type": "code",
   "execution_count": 11,
   "id": "215bd84b-b5a5-4022-9225-925aee5e8922",
   "metadata": {},
   "outputs": [
    {
     "name": "stdout",
     "output_type": "stream",
     "text": [
      "[1 2 3 4 5]\n",
      "[1 2 3 4 5]\n",
      "<class 'numpy.ndarray'>\n",
      "[1 2 3 4]\n",
      "<class 'numpy.ndarray'>\n",
      "[[1 2 3 4 5]\n",
      " [5 4 3 2 1]]\n",
      "<class 'numpy.ndarray'>\n",
      "[[1 2 3 4]\n",
      " [4 3 2 1]]\n",
      "<class 'numpy.ndarray'>\n",
      "2\n",
      "5\n"
     ]
    }
   ],
   "source": [
    "import numpy\n",
    "arr = numpy.array([1,2,3,4,5])\n",
    "print(arr)\n",
    "\n",
    "import numpy as np\n",
    "arr = np.array([1,2,3,4,5])\n",
    "print(arr)\n",
    "print(type(arr))\n",
    "\n",
    "arr=np.array((1,2,3,4))\n",
    "print(arr)\n",
    "print(type(arr))\n",
    "\n",
    "\n",
    "arr = np.array([[1,2,3,4,5],[5,4,3,2,1]])\n",
    "print(arr)\n",
    "print(type(arr))\n",
    "\n",
    "arr=np.array(((1,2,3,4), (4,3,2,1)))\n",
    "print(arr)\n",
    "print(type(arr))\n",
    "print(arr.ndim)\n",
    "\n",
    "print(arr[1,1]+arr[1,2])\n",
    "\n"
   ]
  },
  {
   "cell_type": "code",
   "execution_count": null,
   "id": "c50a33c8-daa6-4885-84db-6310ddd40475",
   "metadata": {},
   "outputs": [],
   "source": []
  }
 ],
 "metadata": {
  "kernelspec": {
   "display_name": "Python 3 (ipykernel)",
   "language": "python",
   "name": "python3"
  },
  "language_info": {
   "codemirror_mode": {
    "name": "ipython",
    "version": 3
   },
   "file_extension": ".py",
   "mimetype": "text/x-python",
   "name": "python",
   "nbconvert_exporter": "python",
   "pygments_lexer": "ipython3",
   "version": "3.11.7"
  },
  "widgets": {
   "application/vnd.jupyter.widget-state+json": {
    "state": {},
    "version_major": 2,
    "version_minor": 0
   }
  }
 },
 "nbformat": 4,
 "nbformat_minor": 5
}
