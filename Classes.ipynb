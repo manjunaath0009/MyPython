{
 "cells": [
  {
   "cell_type": "code",
   "execution_count": 24,
   "metadata": {},
   "outputs": [
    {
     "name": "stdout",
     "output_type": "stream",
     "text": [
      "MSG\n",
      "John\n",
      "Barking\n",
      "******\n",
      "Meow\n",
      "Bow Bow\n",
      "Child Method\n",
      "Parent Method\n",
      "***********POLYMORPHISM***********\n",
      "A\n",
      "B\n",
      "***************INHERITENCE***************\n",
      "Yoki\n",
      "4\n",
      "Woof!\n",
      "5\n",
      "Hello World\n",
      "Hello World\n",
      "My name is MSG and I am 46 year old\n"
     ]
    }
   ],
   "source": [
    "class Student:\n",
    "    def __init__(self, stdName):\n",
    "       self.stdName = stdName\n",
    "       \n",
    "    def __repr__(self):\n",
    "       return self.stdName\n",
    "   \n",
    "msg = Student(\"MSG\")\n",
    "print(msg)\n",
    "       \n",
    "       \n",
    "\n",
    "class Employee:\n",
    "  def __init__(self, name):\n",
    "    self.name = name\n",
    "\n",
    "  def __repr__(self):\n",
    "    return self.name\n",
    "\n",
    "john = Employee('John')\n",
    "print(john) # John\n",
    "\n",
    "class Dog:\n",
    "    def bark(self):\n",
    "        print(\"Barking\")\n",
    "    \n",
    "charlie = Dog()\n",
    "charlie.bark()\n",
    "\n",
    "class cars:\n",
    "    print(\"******\");\n",
    "\n",
    "ferrari = cars();\n",
    "\n",
    "class Animals:\n",
    "    def __init__(self,voice):\n",
    "       self.voice = voice\n",
    "    \n",
    "cat = Animals(\"Meow\")\n",
    "dog=Animals(\"Bow Bow\")\n",
    "\n",
    "print(cat.voice)\n",
    "print(dog.voice)\n",
    "    \n",
    "\n",
    "\n",
    "class ParentClass:\n",
    "    def print_test(self):\n",
    "        print(\"Parent Method\")\n",
    "\n",
    "class ChildClass(ParentClass):\n",
    "    def print_test(self):\n",
    "        print(\"Child Method\")\n",
    "        super().print_test();\n",
    "\n",
    "child_instance=ChildClass();\n",
    "child_instance.print_test();\n",
    "\n",
    "print(\"***********POLYMORPHISM***********\")\n",
    "class ParentClass:\n",
    "  def print_self(self):\n",
    "    print('A')\n",
    "\n",
    "class ChildClass(ParentClass):\n",
    "  def print_self(self):\n",
    "    print('B')\n",
    "\n",
    "obj_A = ParentClass()\n",
    "obj_B = ChildClass()\n",
    "\n",
    "obj_A.print_self() # A\n",
    "obj_B.print_self() # B\n",
    "\n",
    "\n",
    "print(\"***************INHERITENCE***************\")\n",
    "\n",
    "class Animal: \n",
    "  def __init__(self, name, legs):\n",
    "    self.name = name\n",
    "    self.legs = legs\n",
    "        \n",
    "class Dog(Animal):\n",
    "  def sound(self):\n",
    "    print(\"Woof!\")\n",
    "\n",
    "Yoki = Dog(\"Yoki\", 4)\n",
    "print(Yoki.name) # YOKI\n",
    "print(Yoki.legs) # 4\n",
    "Yoki.sound() # Woof!\n",
    "\n",
    "class MyClass:\n",
    "  x = 5\n",
    "\n",
    "p1=MyClass()\n",
    "print(p1.x);\n",
    "\n",
    "\n",
    "class MyParent:\n",
    "  def __init__(self, firstName, lastName):\n",
    "     self.firstName = firstName;\n",
    "     self.lastName = lastName;\n",
    "     \n",
    "  def __str__(self):\n",
    "     return f'{self.firstName} {self.lastName}'\n",
    "     \n",
    "p1 = MyParent(\"Hello\", \"World\")\n",
    "print(p1)\n",
    "print(p1.firstName + ' ' + p1.lastName);\n",
    "\n",
    "class Persons:\n",
    "  def __init__(self, name, age) -> None:\n",
    "     self.name = name;\n",
    "     self.age = age;\n",
    "     \n",
    "  def myFunc(self):\n",
    "    print(f\"My name is {self.name} and I am {self.age} year old\")\n",
    "  \n",
    "p1=Persons(\"MSG\", 46)\n",
    "p1.myFunc();"
   ]
  },
  {
   "cell_type": "code",
   "execution_count": 26,
   "metadata": {},
   "outputs": [
    {
     "name": "stdout",
     "output_type": "stream",
     "text": [
      "Welcome Mike Olsen to the class of 2019\n"
     ]
    }
   ],
   "source": [
    "class Person:\n",
    "  def __init__(self, fname, lname):\n",
    "    self.firstname = fname\n",
    "    self.lastname = lname\n",
    "\n",
    "  def printname(self):\n",
    "    print(self.firstname, self.lastname)\n",
    "\n",
    "class Student(Person):\n",
    "  def __init__(self, fname, lname, year):\n",
    "    super().__init__(fname, lname)\n",
    "    self.graduationyear = year\n",
    "\n",
    "  def welcome(self):\n",
    "    print(\"Welcome\", self.firstname, self.lastname, \"to the class of\", self.graduationyear)\n",
    "\n",
    "x = Student(\"Mike\", \"Olsen\", 2019)\n",
    "x.welcome()\n"
   ]
  },
  {
   "cell_type": "code",
   "execution_count": 27,
   "metadata": {},
   "outputs": [
    {
     "name": "stdout",
     "output_type": "stream",
     "text": [
      "apple\n",
      "banana\n",
      "cherry\n"
     ]
    }
   ],
   "source": [
    "mytuple = (\"apple\", \"banana\", \"cherry\")\n",
    "\n",
    "for x in mytuple:\n",
    "  print(x)"
   ]
  },
  {
   "cell_type": "code",
   "execution_count": 28,
   "metadata": {},
   "outputs": [
    {
     "name": "stdout",
     "output_type": "stream",
     "text": [
      "b a n a n a "
     ]
    }
   ],
   "source": [
    "mystr = \"banana\"\n",
    "\n",
    "for x in mystr:\n",
    "  print(x, end=\" \")"
   ]
  },
  {
   "cell_type": "code",
   "execution_count": 42,
   "metadata": {},
   "outputs": [
    {
     "name": "stdout",
     "output_type": "stream",
     "text": [
      "aaabnn\n"
     ]
    }
   ],
   "source": [
    "mystr = \"banana\"\n",
    "\n",
    "y = sorted(mystr)\n",
    "ans=''.join(y)\n",
    "print(ans)\n"
   ]
  },
  {
   "cell_type": "code",
   "execution_count": 60,
   "metadata": {},
   "outputs": [
    {
     "name": "stdout",
     "output_type": "stream",
     "text": [
      "**********CLASS - POLYMORPHISM************\n",
      "Drive!\n",
      "Sail!\n",
      "Fly!\n"
     ]
    }
   ],
   "source": [
    "print(\"**********CLASS - POLYMORPHISM************\")\n",
    "class Car:\n",
    "  def __init__(self, brand, model):\n",
    "    self.brand = brand\n",
    "    self.model = model\n",
    "\n",
    "  def move(self):\n",
    "    print(\"Drive!\")\n",
    "\n",
    "class Boat:\n",
    "  def __init__(self, brand, model):\n",
    "    self.brand = brand\n",
    "    self.model = model\n",
    "\n",
    "  def move(self):\n",
    "    print(\"Sail!\")\n",
    "\n",
    "class Plane:\n",
    "  def __init__(self, brand, model):\n",
    "    self.brand = brand\n",
    "    self.model = model\n",
    "\n",
    "  def move(self):\n",
    "    print(\"Fly!\")\n",
    "\n",
    "car1 = Car(\"Ford\", \"Mustang\")       #Create a Car class\n",
    "boat1 = Boat(\"Ibiza\", \"Touring 20\") #Create a Boat class\n",
    "plane1 = Plane(\"Boeing\", \"747\")     #Create a Plane class\n",
    "\n",
    "for x in (car1, boat1, plane1):\n",
    "  x.move()"
   ]
  },
  {
   "cell_type": "code",
   "execution_count": 59,
   "metadata": {},
   "outputs": [
    {
     "name": "stdout",
     "output_type": "stream",
     "text": [
      "**********INHERITENCE - POLYMORPHISM************\n",
      "Ford(Mustang) Move!\n",
      "Ibiza(Touring 20) Sail!\n",
      "Boeing(747) Fly!\n"
     ]
    }
   ],
   "source": [
    "print(\"**********INHERITENCE - POLYMORPHISM************\")\n",
    "class Vehicle:\n",
    "  def __init__(self, brand, model):\n",
    "    self.brand = brand\n",
    "    self.model = model\n",
    "\n",
    "  def move(self):\n",
    "    print(\"Move!\")\n",
    "\n",
    "class Car(Vehicle):\n",
    "  pass\n",
    "\n",
    "class Boat(Vehicle):\n",
    "  def move(self):\n",
    "    print(\"Sail!\")\n",
    "\n",
    "class Plane(Vehicle):\n",
    "  def move(self):\n",
    "    print(\"Fly!\")\n",
    "\n",
    "car1 = Car(\"Ford\", \"Mustang\") #Create a Car object\n",
    "boat1 = Boat(\"Ibiza\", \"Touring 20\") #Create a Boat object\n",
    "plane1 = Plane(\"Boeing\", \"747\") #Create a Plane object\n",
    "\n",
    "for x in (car1, boat1, plane1):\n",
    "  print(x.brand + \"(\" + x.model + \")\", end=\" \")\n",
    "  x.move()"
   ]
  },
  {
   "cell_type": "code",
   "execution_count": null,
   "metadata": {},
   "outputs": [],
   "source": []
  }
 ],
 "metadata": {
  "kernelspec": {
   "display_name": "base",
   "language": "python",
   "name": "python3"
  },
  "language_info": {
   "codemirror_mode": {
    "name": "ipython",
    "version": 3
   },
   "file_extension": ".py",
   "mimetype": "text/x-python",
   "name": "python",
   "nbconvert_exporter": "python",
   "pygments_lexer": "ipython3",
   "version": "3.11.7"
  }
 },
 "nbformat": 4,
 "nbformat_minor": 2
}
