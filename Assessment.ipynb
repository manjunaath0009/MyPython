{
 "cells": [
  {
   "cell_type": "code",
   "execution_count": null,
   "metadata": {},
   "outputs": [],
   "source": [
    "# Dear all, this is the list of assignments that were given so far. Kindly take a look at it to complete\n",
    " \n",
    "#assignment 1\n",
    "#install anaconda, git and VS Code on your desktop and run the python program on VS Code and Jupyter notebook. \n",
    " \n",
    "#assignment 2\n",
    "#write a python program to print the primes till 2000 in multiple ways and measure the time taken to complete, to see which one is better\n",
    " \n",
    "#assignment 3\n",
    "#do any 5 programs in the 25-programs challenge and send the answers (copy and paste the python code as .txt directly) to my personal chat on teams\n",
    " \n",
    "#assignment 4\n",
    "#We have seen a salary regression problem and the dataset. We have seen a learning algorithm in python which reads the salary data given as input and creates a linear regression model. (Uni Variate Linear Regression). \n",
    "#Univariate Linear Regression means, one input and one output. Here the input was experience and output was salary. \n",
    "#Can you find another univariate linear regression real world problem and modify the learning algorithm for the new problem?"
   ]
  },
  {
   "cell_type": "code",
   "execution_count": null,
   "metadata": {},
   "outputs": [],
   "source": [
    "#assignment 1\n",
    "#install anaconda, git and VS Code on your desktop and run the python program on VS Code and Jupyter notebook. \n",
    "\n",
    "Installed Anaconda, Git and VS Code on my personal laptop\n",
    "\n",
    "Comfortable in writing/executing programs via VS Code, Jupyter Note book and able to push the code git repository"
   ]
  },
  {
   "cell_type": "code",
   "execution_count": 2,
   "metadata": {},
   "outputs": [
    {
     "name": "stdout",
     "output_type": "stream",
     "text": [
      "3,5,7,9,11,13,15,17,19,21,23,25,27,29,31,33,35,37,39,41,43,45,47,49,51,53,55,57,59,61,63,65,67,69,71,73,75,77,79,81,83,85,87,89,91,93,95,97,99,101,103,105,107,109,111,113,115,117,119,121,123,125,127,129,131,133,135,137,139,141,143,145,147,149,151,153,155,157,159,161,163,165,167,169,171,173,175,177,179,181,183,185,187,189,191,193,195,197,199,201,203,205,207,209,211,213,215,217,219,221,223,225,227,229,231,233,235,237,239,241,243,245,247,249,251,253,255,257,259,261,263,265,267,269,271,273,275,277,279,281,283,285,287,289,291,293,295,297,299,301,303,305,307,309,311,313,315,317,319,321,323,325,327,329,331,333,335,337,339,341,343,345,347,349,351,353,355,357,359,361,363,365,367,369,371,373,375,377,379,381,383,385,387,389,391,393,395,397,399,401,403,405,407,409,411,413,415,417,419,421,423,425,427,429,431,433,435,437,439,441,443,445,447,449,451,453,455,457,459,461,463,465,467,469,471,473,475,477,479,481,483,485,487,489,491,493,495,497,499,501,503,505,507,509,511,513,515,517,519,521,523,525,527,529,531,533,535,537,539,541,543,545,547,549,551,553,555,557,559,561,563,565,567,569,571,573,575,577,579,581,583,585,587,589,591,593,595,597,599,601,603,605,607,609,611,613,615,617,619,621,623,625,627,629,631,633,635,637,639,641,643,645,647,649,651,653,655,657,659,661,663,665,667,669,671,673,675,677,679,681,683,685,687,689,691,693,695,697,699,701,703,705,707,709,711,713,715,717,719,721,723,725,727,729,731,733,735,737,739,741,743,745,747,749,751,753,755,757,759,761,763,765,767,769,771,773,775,777,779,781,783,785,787,789,791,793,795,797,799,801,803,805,807,809,811,813,815,817,819,821,823,825,827,829,831,833,835,837,839,841,843,845,847,849,851,853,855,857,859,861,863,865,867,869,871,873,875,877,879,881,883,885,887,889,891,893,895,897,899,901,903,905,907,909,911,913,915,917,919,921,923,925,927,929,931,933,935,937,939,941,943,945,947,949,951,953,955,957,959,961,963,965,967,969,971,973,975,977,979,981,983,985,987,989,991,993,995,997,999,1001,1003,1005,1007,1009,1011,1013,1015,1017,1019,1021,1023,1025,1027,1029,1031,1033,1035,1037,1039,1041,1043,1045,1047,1049,1051,1053,1055,1057,1059,1061,1063,1065,1067,1069,1071,1073,1075,1077,1079,1081,1083,1085,1087,1089,1091,1093,1095,1097,1099,1101,1103,1105,1107,1109,1111,1113,1115,1117,1119,1121,1123,1125,1127,1129,1131,1133,1135,1137,1139,1141,1143,1145,1147,1149,1151,1153,1155,1157,1159,1161,1163,1165,1167,1169,1171,1173,1175,1177,1179,1181,1183,1185,1187,1189,1191,1193,1195,1197,1199,1201,1203,1205,1207,1209,1211,1213,1215,1217,1219,1221,1223,1225,1227,1229,1231,1233,1235,1237,1239,1241,1243,1245,1247,1249,1251,1253,1255,1257,1259,1261,1263,1265,1267,1269,1271,1273,1275,1277,1279,1281,1283,1285,1287,1289,1291,1293,1295,1297,1299,1301,1303,1305,1307,1309,1311,1313,1315,1317,1319,1321,1323,1325,1327,1329,1331,1333,1335,1337,1339,1341,1343,1345,1347,1349,1351,1353,1355,1357,1359,1361,1363,1365,1367,1369,1371,1373,1375,1377,1379,1381,1383,1385,1387,1389,1391,1393,1395,1397,1399,1401,1403,1405,1407,1409,1411,1413,1415,1417,1419,1421,1423,1425,1427,1429,1431,1433,1435,1437,1439,1441,1443,1445,1447,1449,1451,1453,1455,1457,1459,1461,1463,1465,1467,1469,1471,1473,1475,1477,1479,1481,1483,1485,1487,1489,1491,1493,1495,1497,1499,1501,1503,1505,1507,1509,1511,1513,1515,1517,1519,1521,1523,1525,1527,1529,1531,1533,1535,1537,1539,1541,1543,1545,1547,1549,1551,1553,1555,1557,1559,1561,1563,1565,1567,1569,1571,1573,1575,1577,1579,1581,1583,1585,1587,1589,1591,1593,1595,1597,1599,1601,1603,1605,1607,1609,1611,1613,1615,1617,1619,1621,1623,1625,1627,1629,1631,1633,1635,1637,1639,1641,1643,1645,1647,1649,1651,1653,1655,1657,1659,1661,1663,1665,1667,1669,1671,1673,1675,1677,1679,1681,1683,1685,1687,1689,1691,1693,1695,1697,1699,1701,1703,1705,1707,1709,1711,1713,1715,1717,1719,1721,1723,1725,1727,1729,1731,1733,1735,1737,1739,1741,1743,1745,1747,1749,1751,1753,1755,1757,1759,1761,1763,1765,1767,1769,1771,1773,1775,1777,1779,1781,1783,1785,1787,1789,1791,1793,1795,1797,1799,1801,1803,1805,1807,1809,1811,1813,1815,1817,1819,1821,1823,1825,1827,1829,1831,1833,1835,1837,1839,1841,1843,1845,1847,1849,1851,1853,1855,1857,1859,1861,1863,1865,1867,1869,1871,1873,1875,1877,1879,1881,1883,1885,1887,1889,1891,1893,1895,1897,1899,1901,1903,1905,1907,1909,1911,1913,1915,1917,1919,1921,1923,1925,1927,1929,1931,1933,1935,1937,1939,1941,1943,1945,1947,1949,1951,1953,1955,1957,1959,1961,1963,1965,1967,1969,1971,1973,1975,1977,1979,1981,1983,1985,1987,1989,1991,1993,1995,1997,1999,"
     ]
    }
   ],
   "source": [
    "#assignment 2\n",
    "#write a python program to print the primes till 2000 in multiple ways and measure the time taken to complete, to see which one is better\n",
    "\n",
    "for num in range(1, 2000):\n",
    "    for i in range(2, num):\n",
    "        if num % i == 0:\n",
    "            break\n",
    "        else:\n",
    "            print(num, end=\",\")\n",
    "            break"
   ]
  },
  {
   "cell_type": "code",
   "execution_count": 4,
   "metadata": {},
   "outputs": [
    {
     "name": "stdout",
     "output_type": "stream",
     "text": [
      "2,3,5,7,11,13,17,19,23,29,31,37,41,43,47,53,59,61,67,71,73,79,83,89,97,101,103,107,109,113,127,131,137,139,149,151,157,163,167,173,179,181,191,193,197,199,211,223,227,229,233,239,241,251,257,263,269,271,277,281,283,293,307,311,313,317,331,337,347,349,353,359,367,373,379,383,389,397,401,409,419,421,431,433,439,443,449,457,461,463,467,479,487,491,499,503,509,521,523,541,547,557,563,569,571,577,587,593,599,601,607,613,617,619,631,641,643,647,653,659,661,673,677,683,691,701,709,719,727,733,739,743,751,757,761,769,773,787,797,809,811,821,823,827,829,839,853,857,859,863,877,881,883,887,907,911,919,929,937,941,947,953,967,971,977,983,991,997,1009,1013,1019,1021,1031,1033,1039,1049,1051,1061,1063,1069,1087,1091,1093,1097,1103,1109,1117,1123,1129,1151,1153,1163,1171,1181,1187,1193,1201,1213,1217,1223,1229,1231,1237,1249,1259,1277,1279,1283,1289,1291,1297,1301,1303,1307,1319,1321,1327,1361,1367,1373,1381,1399,1409,1423,1427,1429,1433,1439,1447,1451,1453,1459,1471,1481,1483,1487,1489,1493,1499,1511,1523,1531,1543,1549,1553,1559,1567,1571,1579,1583,1597,1601,1607,1609,1613,1619,1621,1627,1637,1657,1663,1667,1669,1693,1697,1699,1709,1721,1723,1733,1741,1747,1753,1759,1777,1783,1787,1789,1801,1811,1823,1831,1847,1861,1867,1871,1873,1877,1879,1889,1901,1907,1913,1931,1933,1949,1951,1973,1979,1987,1993,1997,1999,"
     ]
    }
   ],
   "source": [
    "for num in range(2,2000):\n",
    "    if all(num%i!=0 for i in range(2,num)):\n",
    "       print (num, end=\",\")"
   ]
  },
  {
   "cell_type": "code",
   "execution_count": 5,
   "metadata": {},
   "outputs": [
    {
     "name": "stdout",
     "output_type": "stream",
     "text": [
      "Prime numbers between 1 and 2000 are:\n",
      "2,3,5,7,11,13,17,19,23,29,31,37,41,43,47,53,59,61,67,71,73,79,83,89,97,101,103,107,109,113,127,131,137,139,149,151,157,163,167,173,179,181,191,193,197,199,211,223,227,229,233,239,241,251,257,263,269,271,277,281,283,293,307,311,313,317,331,337,347,349,353,359,367,373,379,383,389,397,401,409,419,421,431,433,439,443,449,457,461,463,467,479,487,491,499,503,509,521,523,541,547,557,563,569,571,577,587,593,599,601,607,613,617,619,631,641,643,647,653,659,661,673,677,683,691,701,709,719,727,733,739,743,751,757,761,769,773,787,797,809,811,821,823,827,829,839,853,857,859,863,877,881,883,887,907,911,919,929,937,941,947,953,967,971,977,983,991,997,1009,1013,1019,1021,1031,1033,1039,1049,1051,1061,1063,1069,1087,1091,1093,1097,1103,1109,1117,1123,1129,1151,1153,1163,1171,1181,1187,1193,1201,1213,1217,1223,1229,1231,1237,1249,1259,1277,1279,1283,1289,1291,1297,1301,1303,1307,1319,1321,1327,1361,1367,1373,1381,1399,1409,1423,1427,1429,1433,1439,1447,1451,1453,1459,1471,1481,1483,1487,1489,1493,1499,1511,1523,1531,1543,1549,1553,1559,1567,1571,1579,1583,1597,1601,1607,1609,1613,1619,1621,1627,1637,1657,1663,1667,1669,1693,1697,1699,1709,1721,1723,1733,1741,1747,1753,1759,1777,1783,1787,1789,1801,1811,1823,1831,1847,1861,1867,1871,1873,1877,1879,1889,1901,1907,1913,1931,1933,1949,1951,1973,1979,1987,1993,1997,1999,"
     ]
    }
   ],
   "source": [
    "lower = 1\n",
    "upper = 2000\n",
    "\n",
    "print(\"Prime numbers between\", lower, \"and\", upper, \"are:\")\n",
    "\n",
    "for num in range(lower, upper + 1):\n",
    "   # all prime numbers are greater than 1\n",
    "   if num > 1:\n",
    "       for i in range(2, num):\n",
    "           if (num % i) == 0:\n",
    "               break\n",
    "       else:\n",
    "           print(num, end=\",\")\n",
    "           \n",
    "# if we use boolean isPrime = true or false it is taking 0.5s\n",
    " \n",
    "# If we are not using boolean estimated time is 0.0s           "
   ]
  },
  {
   "cell_type": "code",
   "execution_count": 6,
   "metadata": {},
   "outputs": [
    {
     "name": "stdout",
     "output_type": "stream",
     "text": [
      "Not palindrome\n"
     ]
    }
   ],
   "source": [
    "#assignment 3\n",
    "#do any 5 programs in the 25-programs challenge and send the answers (copy and paste the python code as .txt directly) to my personal chat on teams\n",
    "\n",
    "def revStr(str1, str2):\n",
    "    if str1 == str2[::-1]:\n",
    "        print(f\"{str1} == {str2} is a palindrome\")\n",
    "    else: print(\"Not palindrome\")\n",
    " \n",
    "string1 = str(input(\"Enter first string :\"));    \n",
    "string2 = str(input(\"Enter second string :\"));    \n",
    "revStr(string1, string2)\n"
   ]
  },
  {
   "cell_type": "code",
   "execution_count": 7,
   "metadata": {},
   "outputs": [
    {
     "name": "stdout",
     "output_type": "stream",
     "text": [
      "Print all the factors of a given number\n",
      "---------------------------------------\n",
      "The factorial of a given number is :  33  =  8683317618811886495518194401280000000\n"
     ]
    }
   ],
   "source": [
    "print(\"Print all the factors of a given number\");\n",
    "print(\"---------------------------------------\");\n",
    " \n",
    "num = int(input(\"Enter a number : \"));\n",
    " \n",
    "factorial = 1;\n",
    " \n",
    "if num < 0: print(\"Please enter positive number\")\n",
    "elif num == 0: print(\"Factorial of zero is 1\")\n",
    "else:\n",
    "    for i in range(1, num+1): factorial = factorial * i\n",
    "    print(\"The factorial of a given number is : \", num, \" = \", factorial)"
   ]
  },
  {
   "cell_type": "code",
   "execution_count": 9,
   "metadata": {},
   "outputs": [
    {
     "name": "stdout",
     "output_type": "stream",
     "text": [
      "*******************************************\n",
      "\n",
      "\n",
      "Print if the two given strings are equal or unequal\n",
      "---------------------------------------------------\n",
      "Strings are not equal\n",
      "Strings are not equal\n"
     ]
    }
   ],
   "source": [
    "print(\"*******************************************\");\n",
    "print(\"\\n\")\n",
    "print(\"Print if the two given strings are equal or unequal\");\n",
    "print(\"---------------------------------------------------\");\n",
    "str1 = str(input(\"Enter a first string : \"));\n",
    "str2 = str(input(\"Enter a second string : \"));\n",
    "if(str1 == str2) : print(\"Strings are equal\")\n",
    "else: print(\"Strings are not equal\")\n",
    "if(str1.casefold() == str2.casefold()) : print(\"Strings are equal\")\n",
    "else: print(\"Strings are not equal\")"
   ]
  },
  {
   "cell_type": "code",
   "execution_count": 10,
   "metadata": {},
   "outputs": [
    {
     "name": "stdout",
     "output_type": "stream",
     "text": [
      "*******************************************\n",
      "\n",
      "\n",
      "Print the frequency of the given character in the given string\n",
      "---------------------------------------------------\n",
      "{'M': 1, 'S': 1, 'G': 1}\n"
     ]
    }
   ],
   "source": [
    "print(\"*******************************************\");\n",
    "print(\"\\n\")\n",
    "print(\"Print the frequency of the given character in the given string\");\n",
    "print(\"---------------------------------------------------\");\n",
    "str1 = str(input(\"Enter a string : \"));\n",
    "d = {}\n",
    "for i in str1:\n",
    "    if i in d : d[i] += 1\n",
    "    else: d[i]=1\n",
    "print(d)"
   ]
  },
  {
   "cell_type": "code",
   "execution_count": 11,
   "metadata": {},
   "outputs": [
    {
     "name": "stdout",
     "output_type": "stream",
     "text": [
      "*******************************************\n",
      "\n",
      "\n",
      "Print the number of vowels in a given string.\n",
      "---------------------------------------------------\n",
      "{'a': 2, 'e': 0, 'i': 0, 'o': 0, 'u': 0}\n"
     ]
    }
   ],
   "source": [
    "print(\"*******************************************\");\n",
    "print(\"\\n\")\n",
    "print(\"Print the number of vowels in a given string.\");\n",
    "print(\"---------------------------------------------------\");\n",
    "str1 = str(input(\"Enter a string : \"));\n",
    "# .fromkeys(x, y) : its a key and value pair\n",
    "d = {}.fromkeys('aeiou', 0)\n",
    "for i in str1.casefold():\n",
    "    if i in 'aeiou': d[i] += 1\n",
    "print(d)"
   ]
  },
  {
   "cell_type": "code",
   "execution_count": 12,
   "metadata": {},
   "outputs": [
    {
     "name": "stdout",
     "output_type": "stream",
     "text": [
      "*******************************************\n",
      "\n",
      "\n",
      "Print all the numbers divisible by a given number in the range\n",
      "---------------------------------------------------\n",
      "32 34 36 38 40 42 44 46 48 50 52 54 56 58 60 62 64 66 68 70 72 74 76 78 80 82 84 86 88 90 92 94 96 98 100 102 104 106 108 110 112 114 116 118 120 122 124 126 128 130 132 134 136 138 140 142 144 146 148 150 152 154 156 158 160 162 164 166 168 170 172 174 176 178 180 182 184 186 188 "
     ]
    }
   ],
   "source": [
    "print(\"*******************************************\");\n",
    "print(\"\\n\")\n",
    "print(\"Print all the numbers divisible by a given number in the range\");\n",
    "print(\"---------------------------------------------------\");\n",
    "a=int(input(\"Enter lower no.:\"))\n",
    "b=int(input(\"Enter upper no.:\"))\n",
    "num=int(input(\"Enter the no. to be divided by:\"))\n",
    "for i in range(a,b+1):\n",
    "    if(i%num==0):\n",
    "        print(i, end=\" \");"
   ]
  },
  {
   "cell_type": "code",
   "execution_count": 13,
   "metadata": {},
   "outputs": [
    {
     "name": "stdout",
     "output_type": "stream",
     "text": [
      "*******************************************\n",
      "\n",
      "\n",
      "Print “Welcome” if your name is present in the list and “See you next time” if names is not present\n",
      "---------------------------------------------------\n",
      "See you next time\n"
     ]
    }
   ],
   "source": [
    "print(\"*******************************************\");\n",
    "print(\"\\n\")\n",
    "print(\"Print “Welcome” if your name is present in the list and “See you next time” if names is not present\");\n",
    "print(\"---------------------------------------------------\");\n",
    "newnames=[\"a\", \"B\", \"c\"]\n",
    "name=input(\"Enter a name : \")\n",
    "if name.casefold() in newnames: print(\"Welcome\")\n",
    "else: print(\"See you next time\");"
   ]
  },
  {
   "cell_type": "code",
   "execution_count": 15,
   "metadata": {},
   "outputs": [
    {
     "name": "stdout",
     "output_type": "stream",
     "text": [
      "*******************************************\n",
      "\n",
      "\n",
      "Print the list of prime numbers in the  given range\n",
      "-------------------------------------------------------------------\n"
     ]
    }
   ],
   "source": [
    "print(\"*******************************************\");\n",
    "print(\"\\n\")\n",
    "print(\"Print the list of prime numbers in the  given range\");\n",
    "print(\"-------------------------------------------------------------------\");\n",
    "n1=int(input(\"Enter a Starting number : \"))\n",
    "n2=int(input(\"Enter a Ending number : \"))\n",
    "if n1 > 1 and n2 > 1:\n",
    "    for i in range(n1, n2):\n",
    "        j= n1\n",
    "        while (j <= (n2/2)):\n",
    "            if (i%j == 0): break\n",
    "    j += 1\n",
    "    if(j>i/j): print (i, \" is a prime number\")"
   ]
  },
  {
   "cell_type": "code",
   "execution_count": null,
   "metadata": {},
   "outputs": [],
   "source": [
    " \n",
    "print(\"*******************************************\");\n",
    "print(\"\\n\")\n",
    "print(\"Find if the given number is prime\");\n",
    "print(\"-------------------------------------------------------------------\");\n",
    "n=int(input(\"Enter a number : \"))\n",
    "if n > 1:\n",
    "    for i in range(2, (n//2)+1):\n",
    "        if (n % i) == 0:\n",
    "            print(n, \" is not a prime number\")\n",
    "            break\n",
    "    else:\n",
    "        print(n, \" is a prime number\")"
   ]
  },
  {
   "cell_type": "code",
   "execution_count": null,
   "metadata": {},
   "outputs": [],
   "source": []
  }
 ],
 "metadata": {
  "kernelspec": {
   "display_name": "base",
   "language": "python",
   "name": "python3"
  },
  "language_info": {
   "codemirror_mode": {
    "name": "ipython",
    "version": 3
   },
   "file_extension": ".py",
   "mimetype": "text/x-python",
   "name": "python",
   "nbconvert_exporter": "python",
   "pygments_lexer": "ipython3",
   "version": "3.11.7"
  }
 },
 "nbformat": 4,
 "nbformat_minor": 2
}
